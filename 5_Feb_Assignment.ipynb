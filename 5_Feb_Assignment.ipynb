{
 "cells": [
  {
   "cell_type": "code",
   "execution_count": null,
   "id": "0d13f1d5-7f55-4f1a-9068-8cd79baaff29",
   "metadata": {},
   "outputs": [],
   "source": [
    "#Q1\n",
    "# Class : Class is a blue print entity but not specific a real world entity. By making the class it can get the structure format.\n",
    "# Here We are making the empty class we ae not providing the values.\n",
    "class pwskills():\n",
    "    \n",
    "    def welcome(self):\n",
    "        print('Welcome in Pwskills')\n",
    "\n",
    "#Object(Variable/instance) : Object is a real world entity\n",
    "a = 52\n",
    "# This is object we provide the value here\n",
    "\n",
    "# If I am putting the object into the class then it will made the like pipeline by which we can add the data into the class. "
   ]
  },
  {
   "cell_type": "code",
   "execution_count": null,
   "id": "0728719e-c900-4bf6-981d-91925e4dfa2e",
   "metadata": {},
   "outputs": [],
   "source": [
    "Q2\n",
    "# Four Pillars of Oops\n",
    "1. Abstraction\n",
    "2. Encapsulation\n",
    "3. Inheritance\n",
    "4. Polymorphism"
   ]
  },
  {
   "cell_type": "code",
   "execution_count": 1,
   "id": "b99a5ef4-79c1-4960-beae-902113e0f098",
   "metadata": {},
   "outputs": [],
   "source": [
    "#Q3.\n",
    "# __init__ : (Constructor) it help us to provide data into the class\n",
    "\n",
    "class pwskills():\n",
    "    \n",
    "    def __init__(self,mobile_num,Year_of_joining,Email_id):\n",
    "        self.mobile_num = mobile_num\n",
    "        self.Year_of_joining = Year_of_joining\n",
    "        self.Email_id = Email_id"
   ]
  },
  {
   "cell_type": "code",
   "execution_count": 2,
   "id": "d2a64a0b-58d6-4faa-ab33-95fd2933f9a7",
   "metadata": {},
   "outputs": [],
   "source": [
    "varun = pwskills(4587854125,2023,'varun@gamil.com')"
   ]
  },
  {
   "cell_type": "code",
   "execution_count": 3,
   "id": "a9166078-c37b-4f1f-9d0f-527ab8e84f0d",
   "metadata": {},
   "outputs": [
    {
     "data": {
      "text/plain": [
       "4587854125"
      ]
     },
     "execution_count": 3,
     "metadata": {},
     "output_type": "execute_result"
    }
   ],
   "source": [
    "varun.mobile_num"
   ]
  },
  {
   "cell_type": "code",
   "execution_count": null,
   "id": "b4bb24ba-8c05-410c-9ca4-2a4bb90a0f69",
   "metadata": {},
   "outputs": [],
   "source": [
    "# Q4\n",
    "\n",
    "# Self is used to combile the data with the class."
   ]
  },
  {
   "cell_type": "code",
   "execution_count": null,
   "id": "73121691-8788-4669-ada3-75bb0013aa60",
   "metadata": {},
   "outputs": [],
   "source": [
    "# Types of Inheritance\n",
    "\n",
    "1. Single inheritance\n",
    "2. Multiple inheritance\n",
    "3. Multilable inheritance"
   ]
  },
  {
   "cell_type": "code",
   "execution_count": 7,
   "id": "af762276-9c8d-47c8-a53f-9f40dd4acf30",
   "metadata": {},
   "outputs": [],
   "source": [
    "# Single inheritance\n",
    "## When we fetch the data or output from another class\n",
    "\n",
    "class first():\n",
    "    \n",
    "    def text_mst(self):\n",
    "        print('Hello This is my text')\n",
    "        \n",
    "class second(first):\n",
    "    pass"
   ]
  },
  {
   "cell_type": "code",
   "execution_count": 8,
   "id": "efd691a2-5fb9-4674-80ad-d14333718a04",
   "metadata": {},
   "outputs": [],
   "source": [
    "output = second()"
   ]
  },
  {
   "cell_type": "code",
   "execution_count": 9,
   "id": "6f4bd476-1c53-4e51-9b0e-37baa7f85ee1",
   "metadata": {},
   "outputs": [
    {
     "name": "stdout",
     "output_type": "stream",
     "text": [
      "Hello This is my text\n"
     ]
    }
   ],
   "source": [
    "output.text_mst()"
   ]
  },
  {
   "cell_type": "code",
   "execution_count": 10,
   "id": "08792e3a-3308-4b80-acda-2eda11084657",
   "metadata": {},
   "outputs": [],
   "source": [
    "# Multilable inheritance\n",
    "## When we can inherit the property of 2 or more classes\n",
    "\n",
    "class first():\n",
    "    \n",
    "    def text_msg(self):\n",
    "        print('This is my class one')"
   ]
  },
  {
   "cell_type": "code",
   "execution_count": 12,
   "id": "a2eadb3e-bcb4-4671-8c12-568181f08166",
   "metadata": {},
   "outputs": [],
   "source": [
    "class second(first):\n",
    "    \n",
    "    def text_msg_second(self):\n",
    "        return 'This is my class second'"
   ]
  },
  {
   "cell_type": "code",
   "execution_count": 13,
   "id": "bf84925d-1d1a-43dc-906a-8b5d8751140b",
   "metadata": {},
   "outputs": [],
   "source": [
    "class third(second):\n",
    "    pass"
   ]
  },
  {
   "cell_type": "code",
   "execution_count": 14,
   "id": "b6e66fff-d8f3-4a9f-bd9f-da6fdf707eca",
   "metadata": {},
   "outputs": [],
   "source": [
    "obj_class3 = third()"
   ]
  },
  {
   "cell_type": "code",
   "execution_count": 16,
   "id": "7ed238b2-51e2-4df4-81ba-67a042507272",
   "metadata": {},
   "outputs": [
    {
     "name": "stdout",
     "output_type": "stream",
     "text": [
      "This is my class one\n"
     ]
    }
   ],
   "source": [
    "obj_class3.text_msg()"
   ]
  },
  {
   "cell_type": "code",
   "execution_count": 17,
   "id": "659f9ab4-8e58-4289-bc0b-4c46a80bd8c4",
   "metadata": {},
   "outputs": [
    {
     "data": {
      "text/plain": [
       "'This is my class second'"
      ]
     },
     "execution_count": 17,
     "metadata": {},
     "output_type": "execute_result"
    }
   ],
   "source": [
    "obj_class3.text_msg_second()"
   ]
  },
  {
   "cell_type": "code",
   "execution_count": 18,
   "id": "559149df-0666-46f2-a6b9-99d7f20f10b1",
   "metadata": {},
   "outputs": [],
   "source": [
    "# Multilable inheritance\n",
    "## We can inheritance the property of 2 or more different class\n",
    "\n",
    "class one():\n",
    "    \n",
    "    def first(self):\n",
    "        return 'First class text'"
   ]
  },
  {
   "cell_type": "code",
   "execution_count": 19,
   "id": "bd9ad97a-3998-4184-a89b-fb76038ca7ae",
   "metadata": {},
   "outputs": [],
   "source": [
    "class second():\n",
    "    \n",
    "    def second(self):\n",
    "        return 'Second class text'"
   ]
  },
  {
   "cell_type": "code",
   "execution_count": 20,
   "id": "a2fc640d-4c8e-48c3-9ef7-f0accbecb93e",
   "metadata": {},
   "outputs": [],
   "source": [
    "class third(one,second):\n",
    "    pass"
   ]
  },
  {
   "cell_type": "code",
   "execution_count": 21,
   "id": "d5278b5f-177e-42bb-a68c-fee7fcf23568",
   "metadata": {},
   "outputs": [],
   "source": [
    "obj_third = third()"
   ]
  },
  {
   "cell_type": "code",
   "execution_count": 22,
   "id": "a7a13070-0217-4ee2-b1c8-6118d4feb742",
   "metadata": {},
   "outputs": [
    {
     "data": {
      "text/plain": [
       "'First class text'"
      ]
     },
     "execution_count": 22,
     "metadata": {},
     "output_type": "execute_result"
    }
   ],
   "source": [
    "obj_third.first()"
   ]
  },
  {
   "cell_type": "code",
   "execution_count": 23,
   "id": "3b66047a-be0f-4cbb-ba35-5be9850f3c0e",
   "metadata": {},
   "outputs": [
    {
     "data": {
      "text/plain": [
       "'Second class text'"
      ]
     },
     "execution_count": 23,
     "metadata": {},
     "output_type": "execute_result"
    }
   ],
   "source": [
    "obj_third.second()"
   ]
  },
  {
   "cell_type": "code",
   "execution_count": null,
   "id": "1dbc8795-b214-4920-9fd1-a58403287573",
   "metadata": {},
   "outputs": [],
   "source": []
  }
 ],
 "metadata": {
  "kernelspec": {
   "display_name": "Python 3 (ipykernel)",
   "language": "python",
   "name": "python3"
  },
  "language_info": {
   "codemirror_mode": {
    "name": "ipython",
    "version": 3
   },
   "file_extension": ".py",
   "mimetype": "text/x-python",
   "name": "python",
   "nbconvert_exporter": "python",
   "pygments_lexer": "ipython3",
   "version": "3.10.6"
  }
 },
 "nbformat": 4,
 "nbformat_minor": 5
}
