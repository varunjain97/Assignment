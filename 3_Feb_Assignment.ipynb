{
 "cells": [
  {
   "cell_type": "code",
   "execution_count": 5,
   "id": "1dca2a41-c942-45a1-b710-18f7b9054155",
   "metadata": {},
   "outputs": [],
   "source": [
    "# def is the keyword to create a funtion\n",
    "# Create a function to display odd numbers from 1 to 25\n",
    "\n",
    "def odd_num(a,b):\n",
    "    l2 = []\n",
    "    for i in range(a,b+1):\n",
    "        if i %2 != 0:\n",
    "            l2.append(i)\n",
    "    return l2"
   ]
  },
  {
   "cell_type": "code",
   "execution_count": 6,
   "id": "30cbf449-a02b-456f-aa58-d8aedd8a88c7",
   "metadata": {},
   "outputs": [
    {
     "data": {
      "text/plain": [
       "[1, 3, 5, 7, 9, 11, 13, 15, 17, 19, 21, 23, 25]"
      ]
     },
     "execution_count": 6,
     "metadata": {},
     "output_type": "execute_result"
    }
   ],
   "source": [
    "odd_num(1,25)"
   ]
  },
  {
   "cell_type": "code",
   "execution_count": 14,
   "id": "6f44397b-353a-4cdd-9180-d391784cafb5",
   "metadata": {},
   "outputs": [],
   "source": [
    "#Q2\n",
    "# *args is used to create when we want to pass any numbers of value from the functions\n",
    "# **Kwargs is used to pass any numbers of items in the dictionary from function\n",
    "\n",
    "def test(*n):\n",
    "    return n\n",
    "\n",
    "def var_dic(**kwargs):\n",
    "    return kwargs"
   ]
  },
  {
   "cell_type": "code",
   "execution_count": 12,
   "id": "2827bda1-b709-4d1a-9d86-05a15522daed",
   "metadata": {},
   "outputs": [
    {
     "data": {
      "text/plain": [
       "(2, 3, 4, 3, 4, 'Hello')"
      ]
     },
     "execution_count": 12,
     "metadata": {},
     "output_type": "execute_result"
    }
   ],
   "source": [
    "test(2,3,4,3,4,'Hello')"
   ]
  },
  {
   "cell_type": "code",
   "execution_count": 16,
   "id": "7cef3415-d7cf-44ee-ba8e-77feea9f1ea7",
   "metadata": {},
   "outputs": [
    {
     "data": {
      "text/plain": [
       "{'key1': 2, 'Key2': [2, 3, 4]}"
      ]
     },
     "execution_count": 16,
     "metadata": {},
     "output_type": "execute_result"
    }
   ],
   "source": [
    "var_dic(key1 = 2,Key2 = [2,3,4])"
   ]
  },
  {
   "cell_type": "code",
   "execution_count": null,
   "id": "6b8d6ffb-cf4d-44cb-a98d-4f10b51fbd48",
   "metadata": {},
   "outputs": [],
   "source": [
    "#Q3\n",
    "# Iterator : Iterator can interate the values from the list, tuple, dictionary, str etc. one by one."
   ]
  },
  {
   "cell_type": "code",
   "execution_count": 2,
   "id": "c4e9f26c-0410-40f6-a1a2-95c0862558f0",
   "metadata": {},
   "outputs": [],
   "source": [
    "#Q4\n",
    "\n",
    "# Generator Function : Generator Function Generate the outcome directly without storing in the function. Yield funtion is used to throw the\n",
    "# output from the function\n",
    "\n",
    "def test(l2):\n",
    "    for i in l2:\n",
    "        if i %2 == 0:\n",
    "            yield i"
   ]
  },
  {
   "cell_type": "code",
   "execution_count": 3,
   "id": "61c1f269-390b-4212-8f4e-83aef7924a1d",
   "metadata": {},
   "outputs": [
    {
     "data": {
      "text/plain": [
       "[2, 4, 8, 332]"
      ]
     },
     "execution_count": 3,
     "metadata": {},
     "output_type": "execute_result"
    }
   ],
   "source": [
    "l2 = [2,4,5,8,3,45,332]\n",
    "list(test(l2))"
   ]
  },
  {
   "cell_type": "code",
   "execution_count": 36,
   "id": "bb6f5721-df56-4ae5-9549-67a0ae5373bc",
   "metadata": {},
   "outputs": [],
   "source": [
    "# Q5\n",
    "# By using Generator Function find the prime numbers between 1 to 1000\n",
    "\n",
    "def prime_num(a,b):\n",
    "    for i in range(a+1,b):\n",
    "        for j in range(2,i):\n",
    "            if i%j == 0:\n",
    "                break\n",
    "        else:\n",
    "            yield i"
   ]
  },
  {
   "cell_type": "code",
   "execution_count": 43,
   "id": "b8c8b03b-3a95-468d-b22e-9572fa494d36",
   "metadata": {},
   "outputs": [
    {
     "name": "stdout",
     "output_type": "stream",
     "text": [
      "[2, 3, 5, 7, 11, 13, 17, 19, 23, 29, 31, 37, 41, 43, 47, 53, 59, 61, 67, 71, 73, 79, 83, 89, 97, 101, 103, 107, 109, 113, 127, 131, 137, 139, 149, 151, 157, 163, 167, 173, 179, 181, 191, 193, 197, 199, 211, 223, 227, 229, 233, 239, 241, 251, 257, 263, 269, 271, 277, 281, 283, 293, 307, 311, 313, 317, 331, 337, 347, 349, 353, 359, 367, 373, 379, 383, 389, 397, 401, 409, 419, 421, 431, 433, 439, 443, 449, 457, 461, 463, 467, 479, 487, 491, 499, 503, 509, 521, 523, 541, 547, 557, 563, 569, 571, 577, 587, 593, 599, 601, 607, 613, 617, 619, 631, 641, 643, 647, 653, 659, 661, 673, 677, 683, 691, 701, 709, 719, 727, 733, 739, 743, 751, 757, 761, 769, 773, 787, 797, 809, 811, 821, 823, 827, 829, 839, 853, 857, 859, 863, 877, 881, 883, 887, 907, 911, 919, 929, 937, 941, 947, 953, 967, 971, 977, 983, 991, 997]\n"
     ]
    }
   ],
   "source": [
    "print(list(prime_num(1,1000)))"
   ]
  },
  {
   "cell_type": "code",
   "execution_count": 52,
   "id": "9d8be72e-1f20-420c-a9ac-c308557d4e91",
   "metadata": {},
   "outputs": [
    {
     "name": "stdout",
     "output_type": "stream",
     "text": [
      "2 3 5 7 11 13 17 19 23 29 31 37 41 43 47 53 59 61 67 71 "
     ]
    }
   ],
   "source": [
    "for i in iter(list(prime_num(1,1000))[:20]):\n",
    "    print(i,end = ' ')"
   ]
  },
  {
   "cell_type": "code",
   "execution_count": 8,
   "id": "2ee48da1-7272-4d0c-98cd-4cd9ad7bd282",
   "metadata": {},
   "outputs": [],
   "source": [
    "# Q6\n",
    "# Find 10 numbers of Finonacci series\n",
    "\n",
    "def Finno():\n",
    "    a,b = 0,1\n",
    "    while True:\n",
    "        yield a\n",
    "        a,b = b,a+b"
   ]
  },
  {
   "cell_type": "code",
   "execution_count": 11,
   "id": "7d9f2fee-2413-45a0-8253-8ad7339d6113",
   "metadata": {},
   "outputs": [
    {
     "name": "stdout",
     "output_type": "stream",
     "text": [
      "0 1 1 2 3 5 8 13 21 34 "
     ]
    }
   ],
   "source": [
    "finonacci = Finno()\n",
    "\n",
    "for i in range(10):\n",
    "    print(next(finonacci),end = ' ')"
   ]
  },
  {
   "cell_type": "code",
   "execution_count": 21,
   "id": "273616a6-792d-4a0d-a43f-add47b9a9355",
   "metadata": {},
   "outputs": [],
   "source": [
    "# Q7\n",
    "\n",
    "string = 'pwskills'"
   ]
  },
  {
   "cell_type": "code",
   "execution_count": 50,
   "id": "a65dab0e-fb63-4153-a4a8-487062a8e169",
   "metadata": {},
   "outputs": [
    {
     "data": {
      "text/plain": [
       "['p', 'w', 's', 'k', 'i', 'l', 'l', 's']"
      ]
     },
     "execution_count": 50,
     "metadata": {},
     "output_type": "execute_result"
    }
   ],
   "source": [
    "[i for i in string]"
   ]
  },
  {
   "cell_type": "code",
   "execution_count": 48,
   "id": "8983accd-6bc5-485c-9d46-81c31769f778",
   "metadata": {},
   "outputs": [
    {
     "name": "stdout",
     "output_type": "stream",
     "text": [
      "Number is Parandrome\n"
     ]
    }
   ],
   "source": [
    "# Q8 Check the number is Palindrome or not\n",
    "\n",
    "num = 123456787654321\n",
    "cnt = int(len(str(num))/2)\n",
    "\n",
    "while cnt >0:\n",
    "    if str(num)[cnt-1] == str(num)[-cnt]:\n",
    "        print('Number is Parandrome')\n",
    "        break\n",
    "    else:\n",
    "        print('Number is not Parandrame')\n",
    "        break\n",
    "        \n",
    "    cnt = cnt - 1"
   ]
  },
  {
   "cell_type": "code",
   "execution_count": 49,
   "id": "1a1e6029-04eb-4725-be88-f7a18b8d10de",
   "metadata": {},
   "outputs": [
    {
     "data": {
      "text/plain": [
       "[1,\n",
       " 3,\n",
       " 5,\n",
       " 7,\n",
       " 9,\n",
       " 11,\n",
       " 13,\n",
       " 15,\n",
       " 17,\n",
       " 19,\n",
       " 21,\n",
       " 23,\n",
       " 25,\n",
       " 27,\n",
       " 29,\n",
       " 31,\n",
       " 33,\n",
       " 35,\n",
       " 37,\n",
       " 39,\n",
       " 41,\n",
       " 43,\n",
       " 45,\n",
       " 47,\n",
       " 49,\n",
       " 51,\n",
       " 53,\n",
       " 55,\n",
       " 57,\n",
       " 59,\n",
       " 61,\n",
       " 63,\n",
       " 65,\n",
       " 67,\n",
       " 69,\n",
       " 71,\n",
       " 73,\n",
       " 75,\n",
       " 77,\n",
       " 79,\n",
       " 81,\n",
       " 83,\n",
       " 85,\n",
       " 87,\n",
       " 89,\n",
       " 91,\n",
       " 93,\n",
       " 95,\n",
       " 97,\n",
       " 99]"
      ]
     },
     "execution_count": 49,
     "metadata": {},
     "output_type": "execute_result"
    }
   ],
   "source": [
    "# Q9 List Comprihension\n",
    "[i for i in range(100) if i %2 != 0]"
   ]
  },
  {
   "cell_type": "code",
   "execution_count": null,
   "id": "c501922d-ad24-437e-9f88-4c51297503f2",
   "metadata": {},
   "outputs": [],
   "source": []
  }
 ],
 "metadata": {
  "kernelspec": {
   "display_name": "Python 3 (ipykernel)",
   "language": "python",
   "name": "python3"
  },
  "language_info": {
   "codemirror_mode": {
    "name": "ipython",
    "version": 3
   },
   "file_extension": ".py",
   "mimetype": "text/x-python",
   "name": "python",
   "nbconvert_exporter": "python",
   "pygments_lexer": "ipython3",
   "version": "3.10.6"
  }
 },
 "nbformat": 4,
 "nbformat_minor": 5
}
