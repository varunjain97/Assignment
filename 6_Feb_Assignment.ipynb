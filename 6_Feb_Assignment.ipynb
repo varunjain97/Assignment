{
 "cells": [
  {
   "cell_type": "code",
   "execution_count": 1,
   "id": "c3c7dcde-1837-46b2-b61d-0954be0448e1",
   "metadata": {},
   "outputs": [],
   "source": [
    "# Q1\n",
    "## Find the all numrical vlaues\n",
    "\n",
    "list1 = [1,2,3,4,[44,55,66,True],False,(34,56,78,89,34),{1,2,3,3,2,1},{1:34,'key2':[55,67,78,89],4:(45,22,61,34)},\n",
    "        [56,'data science'],'Machine Learning']"
   ]
  },
  {
   "cell_type": "code",
   "execution_count": 43,
   "id": "c726d849-366c-4a78-8226-6e3adfd5bea0",
   "metadata": {},
   "outputs": [],
   "source": [
    "def find_num(l1):\n",
    "    l1 = []\n",
    "    for i in list1:\n",
    "    \n",
    "        if type(i) == int:\n",
    "            l1.append(i)\n",
    "    \n",
    "        elif type(i) == list or type(i) == tuple or type(i) == set:\n",
    "            for j in i:\n",
    "                if type(j) == int:\n",
    "                    l1.append(j)\n",
    "                \n",
    "        elif type(i) == dict:\n",
    "            for j in i:\n",
    "                if type(j) == int:\n",
    "                    l1.append(j)\n",
    "            \n",
    "            for j in i:\n",
    "                if type(i[j]) == int:\n",
    "                    l1.append(i[j])\n",
    "                elif type(i[j]) == set or type(i[j]) == list or type(i[j]) == tuple:\n",
    "                    for k in i[j]:\n",
    "                        if type(k) == int:\n",
    "                            l1.append(k)\n",
    "                            \n",
    "    return print(l1)\n",
    "                        \n"
   ]
  },
  {
   "cell_type": "code",
   "execution_count": 44,
   "id": "760269a4-37aa-42fa-bb17-9296fd81897d",
   "metadata": {},
   "outputs": [
    {
     "name": "stdout",
     "output_type": "stream",
     "text": [
      "[1, 2, 3, 4, 44, 55, 66, 34, 56, 78, 89, 34, 1, 2, 3, 1, 4, 34, 55, 67, 78, 89, 45, 22, 61, 34, 56]\n"
     ]
    }
   ],
   "source": [
    "find_num(list1)"
   ]
  },
  {
   "cell_type": "code",
   "execution_count": 58,
   "id": "f5e2d3c3-dc6a-4385-b400-185a232f79d2",
   "metadata": {},
   "outputs": [],
   "source": [
    "# Q2\n"
   ]
  },
  {
   "cell_type": "code",
   "execution_count": 88,
   "id": "4a5a3913-906f-4425-98ef-7c11d45916bb",
   "metadata": {},
   "outputs": [],
   "source": [
    "def encrypting(sen):\n",
    "    lst = ['a','b','c','d','e','f','g','h','i','j','k','l','m','n','o','p','q','r','s','t','u','v','w','x','y','z']\n",
    "    sm = ''\n",
    "    sen = sen.replace(' ','$')\n",
    "    for i in sen.lower():\n",
    "        if i == '$':\n",
    "            sm = sm + '$'\n",
    "        elif i in lst:\n",
    "            sm = sm + lst[26 - lst.index(i)-1]\n",
    "        else:\n",
    "            sm = sm + i\n",
    "    return sm"
   ]
  },
  {
   "cell_type": "code",
   "execution_count": 89,
   "id": "6d469cde-f211-4094-904e-0e8112e0d6ac",
   "metadata": {},
   "outputs": [],
   "source": [
    "sentance = 'I want to become a Data Scientist.'"
   ]
  },
  {
   "cell_type": "code",
   "execution_count": 90,
   "id": "8cd8d022-9736-476d-8c71-d4b8c6cc9130",
   "metadata": {},
   "outputs": [
    {
     "data": {
      "text/plain": [
       "'r$dzmg$gl$yvxlnv$z$wzgz$hxrvmgrhg.'"
      ]
     },
     "execution_count": 90,
     "metadata": {},
     "output_type": "execute_result"
    }
   ],
   "source": [
    "encrypting(sentance)"
   ]
  },
  {
   "cell_type": "code",
   "execution_count": null,
   "id": "c6104514-3a85-4677-b410-8652b260bb8f",
   "metadata": {},
   "outputs": [],
   "source": []
  },
  {
   "cell_type": "code",
   "execution_count": null,
   "id": "9ffedeea-a651-4c9d-aa96-814219c18b87",
   "metadata": {},
   "outputs": [],
   "source": []
  }
 ],
 "metadata": {
  "kernelspec": {
   "display_name": "Python 3 (ipykernel)",
   "language": "python",
   "name": "python3"
  },
  "language_info": {
   "codemirror_mode": {
    "name": "ipython",
    "version": 3
   },
   "file_extension": ".py",
   "mimetype": "text/x-python",
   "name": "python",
   "nbconvert_exporter": "python",
   "pygments_lexer": "ipython3",
   "version": "3.10.6"
  }
 },
 "nbformat": 4,
 "nbformat_minor": 5
}
