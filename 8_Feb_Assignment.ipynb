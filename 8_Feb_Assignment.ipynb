{
 "cells": [
  {
   "cell_type": "raw",
   "id": "2bd13246-90ae-4069-bcfe-75b69fac5391",
   "metadata": {},
   "source": [
    " Q1\n",
    "Abstraction :- Abstraction focuses on hiding the internal implementations of a process or method from the user. In this way, \n",
    "                the user knows what he is doing but not how the work is being done."
   ]
  },
  {
   "cell_type": "code",
   "execution_count": 1,
   "id": "66065c81-b4f7-4ddd-ab8c-8288990686e4",
   "metadata": {},
   "outputs": [],
   "source": [
    "class pwskills:\n",
    "    \n",
    "    std_name = []\n",
    "    std_email = []\n",
    "    std_mobile_number = []\n",
    "    std_course = []\n",
    "    \n",
    "    def __init__(self, name, email_id, mobile_number,course) :\n",
    "        self.std_name.append(name)\n",
    "        self.std_email.append(email_id)\n",
    "        self.std_mobile_number.append(mobile_number)\n",
    "        self.std_course.append(course)\n",
    "    "
   ]
  },
  {
   "cell_type": "code",
   "execution_count": 2,
   "id": "6fe00ad9-5662-46b3-ad01-fdf30f5f31e5",
   "metadata": {},
   "outputs": [
    {
     "data": {
      "text/plain": [
       "<__main__.pwskills at 0x7f1b05bdef80>"
      ]
     },
     "execution_count": 2,
     "metadata": {},
     "output_type": "execute_result"
    }
   ],
   "source": [
    "pw = pwskills('Tarun','jaintarun0593@gmail.com',7845878547,'Data Science Master')\n",
    "pw = pwskills('Varun','jainvarun0593@gmail.com',7845878547,'Data Science Master')\n",
    "\n",
    "# Or Even we can pass directly\n",
    "\n",
    "pwskills('Arun','jainvdfdfarun0593@gmail.com',7845878547,'Data Science Master')"
   ]
  },
  {
   "cell_type": "code",
   "execution_count": 4,
   "id": "265a22db-9f57-4796-b13c-164756f4981b",
   "metadata": {},
   "outputs": [
    {
     "data": {
      "text/plain": [
       "['Tarun', 'Varun', 'Arun']"
      ]
     },
     "execution_count": 4,
     "metadata": {},
     "output_type": "execute_result"
    }
   ],
   "source": [
    "pwskills.std_name"
   ]
  },
  {
   "cell_type": "raw",
   "id": "59355fa6-dc43-4aac-9e7c-b8ccc7cb6755",
   "metadata": {},
   "source": [
    "In above senario we are just pass the data we know what we are doing but we don't know how it is done."
   ]
  },
  {
   "cell_type": "code",
   "execution_count": null,
   "id": "4a7e76ba-5ec3-4743-893c-7298cb6ce344",
   "metadata": {},
   "outputs": [],
   "source": []
  },
  {
   "cell_type": "raw",
   "id": "376a0e3b-7bca-47cc-aa67-10567d38f5b2",
   "metadata": {},
   "source": [
    "# Q2\n",
    "\n",
    "In case of Abstraction : If we press tab after write the class name then it will give me the values of my variable.\n",
    "In case of Encapsulation : It will create a capsule for user user can't find what happened while wrighting the class."
   ]
  },
  {
   "cell_type": "code",
   "execution_count": 19,
   "id": "fe3b6a22-09ee-40c9-a0eb-da12859dd7be",
   "metadata": {},
   "outputs": [],
   "source": [
    "class adding:\n",
    "    \n",
    "    def __init__(self, a, b):\n",
    "        self.a = a\n",
    "        self.b = b\n",
    "        print(self.a + self.b)"
   ]
  },
  {
   "cell_type": "code",
   "execution_count": 21,
   "id": "95161588-79e1-4c69-8489-1deeb1a87285",
   "metadata": {},
   "outputs": [
    {
     "name": "stdout",
     "output_type": "stream",
     "text": [
      "6\n"
     ]
    }
   ],
   "source": [
    "add = adding(2,4)"
   ]
  },
  {
   "cell_type": "code",
   "execution_count": 22,
   "id": "0ad2210e-1dea-4431-8a9a-f0fd9b885af8",
   "metadata": {},
   "outputs": [
    {
     "data": {
      "text/plain": [
       "2"
      ]
     },
     "execution_count": 22,
     "metadata": {},
     "output_type": "execute_result"
    }
   ],
   "source": [
    "add.a    # if we tab after the add then it show the value what i have to pass but if i want to keep secret that value then use Encapsulation"
   ]
  },
  {
   "cell_type": "code",
   "execution_count": 32,
   "id": "28e90073-fa9f-4061-bfc6-f01bb9e51af7",
   "metadata": {},
   "outputs": [],
   "source": [
    "class adding:\n",
    "    \n",
    "    def __init__(self, a, b):\n",
    "        self.__a = a\n",
    "        self.__b = b\n",
    "        print(self.__a + self.__b)"
   ]
  },
  {
   "cell_type": "code",
   "execution_count": 33,
   "id": "c8014953-a203-48e4-af5f-8a067d670485",
   "metadata": {},
   "outputs": [
    {
     "name": "stdout",
     "output_type": "stream",
     "text": [
      "8\n"
     ]
    },
    {
     "data": {
      "text/plain": [
       "3"
      ]
     },
     "execution_count": 33,
     "metadata": {},
     "output_type": "execute_result"
    }
   ],
   "source": [
    "add = adding(3,5)\n",
    "add._adding__a                # After pressing tab after add then it doesn't give any hint"
   ]
  },
  {
   "cell_type": "raw",
   "id": "23507a90-050b-4ba9-b35f-5269794b84c2",
   "metadata": {},
   "source": [
    "# Q4\n",
    "\n",
    "Data Abstraction in Python can be achieved through creating abstract classes and inheriting them later. \n",
    "Inheritance in OOP is a way through which one class inherits the attributes and methods of another class."
   ]
  },
  {
   "cell_type": "raw",
   "id": "cdf66917-7a4d-435d-8bc5-beb0c3682d20",
   "metadata": {},
   "source": [
    "Q5\n",
    "\n",
    "No, you cannot create an instance of an abstract class because it does not have a complete implementation. The purpose of an abstract class is to function as a base for subclasses. It acts like a template, or an empty or partially empty structure, you should extend it and build on it before you can use it."
   ]
  }
 ],
 "metadata": {
  "kernelspec": {
   "display_name": "Python 3 (ipykernel)",
   "language": "python",
   "name": "python3"
  },
  "language_info": {
   "codemirror_mode": {
    "name": "ipython",
    "version": 3
   },
   "file_extension": ".py",
   "mimetype": "text/x-python",
   "name": "python",
   "nbconvert_exporter": "python",
   "pygments_lexer": "ipython3",
   "version": "3.10.6"
  }
 },
 "nbformat": 4,
 "nbformat_minor": 5
}
