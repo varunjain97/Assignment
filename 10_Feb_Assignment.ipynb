{
 "cells": [
  {
   "cell_type": "raw",
   "id": "d671b5b6-1cdd-469c-b574-5e6ffd7fa2cf",
   "metadata": {},
   "source": [
    "Q1\n",
    "\n",
    "Use open() function to open a file\n",
    "Modes to open a file\n",
    "\n",
    "'r'       open for reading (default)\n",
    "'w'       open for writing, truncating the file first\n",
    "'x'       create a new file and open it for writing\n",
    "'a'       open for writing, appending to the end of the file if it exists\n",
    "'b'       binary mode\n",
    "'t'       text mode (default)\n",
    "'+'       open a disk file for updating (reading and writing)\n",
    "'U'       universal newline mode (deprecated)\n",
    "\n"
   ]
  },
  {
   "cell_type": "raw",
   "id": "c80cfba8-aed1-4607-9ec1-345ecf4c7493",
   "metadata": {},
   "source": [
    "Q2\n",
    "\n",
    "Close function is used to close the file. Without close the file we can't open the other file or see the changes in same file."
   ]
  },
  {
   "cell_type": "code",
   "execution_count": 12,
   "id": "8ec702a1-829c-487c-a2c2-8814e3034178",
   "metadata": {},
   "outputs": [],
   "source": [
    "#Q3\n",
    "\n",
    "txt = open('test1.txt','w')\n",
    "txt.write('I want to become a Data Scientist')\n",
    "txt.close()"
   ]
  },
  {
   "cell_type": "raw",
   "id": "c59c9e0c-6ede-4821-b303-2ffd5f475443",
   "metadata": {},
   "source": [
    "Q4\n",
    "\n",
    "read()      -- Read is use for reading the whole file.\n",
    "readline()  -- Readline () is a file method that helps to read one complete line from the given file\n",
    "readlines() -- Return all lines in the file, as a list where each line is an item in the list object:"
   ]
  },
  {
   "cell_type": "code",
   "execution_count": 14,
   "id": "382d9453-eac4-4e39-815a-57c5ea602a9b",
   "metadata": {},
   "outputs": [],
   "source": [
    "with open('test1.txt', 'a') as t:\n",
    "    t.write('Python readline () is a file method that helps to read one complete line from the given file.\\n You can also make use of the size parameter to get a specific length of the line. ...\\nThe readline () method helps to read just one line at a time, and it returns the first line from the file given. ..')\n",
    "    t.close()"
   ]
  },
  {
   "cell_type": "code",
   "execution_count": 15,
   "id": "d5a55788-c952-4402-ab4d-f2e62dc792f7",
   "metadata": {},
   "outputs": [
    {
     "data": {
      "text/plain": [
       "'I want to become a Data ScientistPython readline () is a file method that helps to read one complete line from the given file.\\n You can also make use of the size parameter to get a specific length of the line. ...\\nThe readline () method helps to read just one line at a time, and it returns the first line from the file given. ..'"
      ]
     },
     "execution_count": 15,
     "metadata": {},
     "output_type": "execute_result"
    }
   ],
   "source": [
    "tx = open('test1.txt','r')\n",
    "tx.read()\n",
    "#tx.close()"
   ]
  },
  {
   "cell_type": "code",
   "execution_count": 16,
   "id": "dbcb5dff-623b-4ebb-84aa-141d70b22d0a",
   "metadata": {},
   "outputs": [
    {
     "data": {
      "text/plain": [
       "'I want to become a Data ScientistPython readline () is a file method that helps to read one complete line from the given file.\\n'"
      ]
     },
     "execution_count": 16,
     "metadata": {},
     "output_type": "execute_result"
    }
   ],
   "source": [
    "tx.seek(0)\n",
    "tx.readline()"
   ]
  },
  {
   "cell_type": "code",
   "execution_count": 17,
   "id": "fb02f135-c83e-4753-a9f7-a29e0964799b",
   "metadata": {},
   "outputs": [
    {
     "data": {
      "text/plain": [
       "['I want to become a Data ScientistPython readline () is a file method that helps to read one complete line from the given file.\\n',\n",
       " ' You can also make use of the size parameter to get a specific length of the line. ...\\n',\n",
       " 'The readline () method helps to read just one line at a time, and it returns the first line from the file given. ..']"
      ]
     },
     "execution_count": 17,
     "metadata": {},
     "output_type": "execute_result"
    }
   ],
   "source": [
    "tx.seek(0)\n",
    "tx.readlines()"
   ]
  },
  {
   "cell_type": "code",
   "execution_count": 20,
   "id": "6a263214-77bf-420e-b165-123fb7cd51c4",
   "metadata": {},
   "outputs": [],
   "source": [
    "#Q 5\n",
    "\n",
    "#By using the with command to open a file it looks good and we can know to see only what's function we do in the file\n",
    "\n",
    "# Open Statement\n",
    "\n",
    "t = open('test1.txt','w')\n",
    "t.write('Hello, I want to become a Data Scientist')\n",
    "t.close()"
   ]
  },
  {
   "cell_type": "code",
   "execution_count": 21,
   "id": "a941c120-099f-4b0f-88c3-46e5ae00221e",
   "metadata": {},
   "outputs": [],
   "source": [
    "# With Statement\n",
    "\n",
    "with open('test1.txt','w') as t:\n",
    "    t.write('I want to become a Data Scientist')\n",
    "    t.close()"
   ]
  },
  {
   "cell_type": "raw",
   "id": "38b58cb2-0c29-4d4f-a537-d8048cce7d62",
   "metadata": {},
   "source": [
    "Q6\n",
    "\n",
    "write      : Write is used to write anything in a txt format \n",
    "writelines : it is used to write a list into txt format."
   ]
  },
  {
   "cell_type": "code",
   "execution_count": 24,
   "id": "4651e914-b512-4dc2-be26-dfbe4586d3bc",
   "metadata": {},
   "outputs": [],
   "source": [
    "f = open(\"demofile3.txt\", \"a\")\n",
    "f.writelines([\"See you soon!\", \"Over and out.\"])\n",
    "f.close()"
   ]
  },
  {
   "cell_type": "code",
   "execution_count": 25,
   "id": "df52fdda-b16b-414e-8dcf-31bcc780d972",
   "metadata": {},
   "outputs": [],
   "source": [
    "#open and read the file after the appending:\n",
    "\n",
    "f = open(\"demofile3.txt\", \"a\")\n",
    "f.write('See you soon!')\n",
    "f.close()"
   ]
  },
  {
   "cell_type": "code",
   "execution_count": null,
   "id": "75e13a0d-2d47-4c29-864b-5525ec44ef2f",
   "metadata": {},
   "outputs": [],
   "source": []
  }
 ],
 "metadata": {
  "kernelspec": {
   "display_name": "Python 3 (ipykernel)",
   "language": "python",
   "name": "python3"
  },
  "language_info": {
   "codemirror_mode": {
    "name": "ipython",
    "version": 3
   },
   "file_extension": ".py",
   "mimetype": "text/x-python",
   "name": "python",
   "nbconvert_exporter": "python",
   "pygments_lexer": "ipython3",
   "version": "3.10.6"
  }
 },
 "nbformat": 4,
 "nbformat_minor": 5
}
