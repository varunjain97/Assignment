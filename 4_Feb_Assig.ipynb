{
 "cells": [
  {
   "cell_type": "code",
   "execution_count": 15,
   "id": "385ee085-0356-44f0-b6c5-bc0289c3bde1",
   "metadata": {},
   "outputs": [
    {
     "data": {
      "text/plain": [
       "[2, 3, 3, 4, 4, 5, 6, 34, 45]"
      ]
     },
     "execution_count": 15,
     "metadata": {},
     "output_type": "execute_result"
    }
   ],
   "source": [
    "# Q1\n",
    "\n",
    "ls = (2,3,4,5,6,3,4,45,34)\n",
    "\n",
    "sort = lambda x : sorted(x)\n",
    "sort(ls)"
   ]
  },
  {
   "cell_type": "code",
   "execution_count": 57,
   "id": "678c151f-db8e-4078-8d81-1958382ada6e",
   "metadata": {},
   "outputs": [
    {
     "data": {
      "text/plain": [
       "[('Virat Kohi', 24936),\n",
       " ('Jack Kallis', 25534),\n",
       " ('Ricky Ponting', 27483),\n",
       " ('Sachin Tendulkar', 34357)]"
      ]
     },
     "execution_count": 57,
     "metadata": {},
     "output_type": "execute_result"
    }
   ],
   "source": [
    "tp = [('Sachin Tendulkar',34357),('Ricky Ponting',27483),('Jack Kallis',25534),('Virat Kohi',24936)]\n",
    "\n",
    "lst = []\n",
    "for i in tp:\n",
    "    lst.append(i[::-1])\n",
    "\n",
    "lt = []\n",
    "for i in sort(lst):\n",
    "    lt.append(i[::-1])\n",
    "    \n",
    "lt"
   ]
  },
  {
   "cell_type": "code",
   "execution_count": 25,
   "id": "a1ac3291-22a6-4ab6-88a0-9a188551e863",
   "metadata": {},
   "outputs": [
    {
     "data": {
      "text/plain": [
       "[1, 4, 9, 16, 25, 36, 49, 64, 81, 100]"
      ]
     },
     "execution_count": 25,
     "metadata": {},
     "output_type": "execute_result"
    }
   ],
   "source": [
    "# Q2\n",
    "\n",
    "lst = [1,2,3,4,5,6,7,8,9,10]\n",
    "\n",
    "sq = lambda x : x**2\n",
    "\n",
    "list(map(sq,lst))"
   ]
  },
  {
   "cell_type": "code",
   "execution_count": 26,
   "id": "edaf4bc9-f695-4cd5-a2a5-333fbbbaa971",
   "metadata": {},
   "outputs": [
    {
     "data": {
      "text/plain": [
       "('1', '2', '3', '4', '5', '6', '7', '8', '9', '10')"
      ]
     },
     "execution_count": 26,
     "metadata": {},
     "output_type": "execute_result"
    }
   ],
   "source": [
    "# Q3\n",
    "\n",
    "lst = [1,2,3,4,5,6,7,8,9,10]\n",
    "\n",
    "st = lambda x : str(x)\n",
    "tuple(map(st, lst))"
   ]
  },
  {
   "cell_type": "code",
   "execution_count": 30,
   "id": "90da0be2-483a-493b-9123-be217c19114a",
   "metadata": {},
   "outputs": [
    {
     "data": {
      "text/plain": [
       "15511210043330985984000000"
      ]
     },
     "execution_count": 30,
     "metadata": {},
     "output_type": "execute_result"
    }
   ],
   "source": [
    "#Q4\n",
    "\n",
    "from functools import reduce\n",
    "\n",
    "lst = list(range(1,26))\n",
    "\n",
    "prod = lambda x,y: x*y\n",
    "reduce(prod,lst)"
   ]
  },
  {
   "cell_type": "code",
   "execution_count": 34,
   "id": "3bf591f8-e0de-4502-8291-2ed8c30978d4",
   "metadata": {},
   "outputs": [
    {
     "data": {
      "text/plain": [
       "[6, 60, 90, 120]"
      ]
     },
     "execution_count": 34,
     "metadata": {},
     "output_type": "execute_result"
    }
   ],
   "source": [
    "# Q5\n",
    "\n",
    "lst = [2,3,6,9,27,60,90,120,55,46]\n",
    "\n",
    "flt = lambda x : x % 2 == 0 and x % 3 == 0\n",
    "list(filter(flt,lst))"
   ]
  },
  {
   "cell_type": "code",
   "execution_count": 42,
   "id": "4d991d89-af68-485c-b2ab-c446dcd881c6",
   "metadata": {},
   "outputs": [],
   "source": [
    "# Q6\n",
    "\n",
    "lst = ['python','php','aba','radar','level']\n",
    "\n",
    "pnd = lambda x: x == x[::-1]"
   ]
  },
  {
   "cell_type": "code",
   "execution_count": 44,
   "id": "a98026de-4255-4e20-b3d6-4e952a64e3ba",
   "metadata": {},
   "outputs": [
    {
     "data": {
      "text/plain": [
       "['php', 'aba', 'radar', 'level']"
      ]
     },
     "execution_count": 44,
     "metadata": {},
     "output_type": "execute_result"
    }
   ],
   "source": [
    "list(filter(pnd,lst))"
   ]
  },
  {
   "cell_type": "code",
   "execution_count": null,
   "id": "eeae3d98-c9cb-455f-82cd-24a5a44965c9",
   "metadata": {},
   "outputs": [],
   "source": []
  }
 ],
 "metadata": {
  "kernelspec": {
   "display_name": "Python 3 (ipykernel)",
   "language": "python",
   "name": "python3"
  },
  "language_info": {
   "codemirror_mode": {
    "name": "ipython",
    "version": 3
   },
   "file_extension": ".py",
   "mimetype": "text/x-python",
   "name": "python",
   "nbconvert_exporter": "python",
   "pygments_lexer": "ipython3",
   "version": "3.10.6"
  }
 },
 "nbformat": 4,
 "nbformat_minor": 5
}
