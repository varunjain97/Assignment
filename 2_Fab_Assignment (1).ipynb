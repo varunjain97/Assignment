{
 "cells": [
  {
   "cell_type": "raw",
   "id": "3bdc712b-7687-4963-a61d-f91ca223dc92",
   "metadata": {},
   "source": [
    "Q1.\n",
    "For loop: When we have the value of i like in the case of list, tuple etc. In that case we use the for loop\n",
    "While loop: When there is comparison while running the loop"
   ]
  },
  {
   "cell_type": "code",
   "execution_count": 1,
   "id": "0c03f604-fc5e-4604-9fdd-51ae48ad8bee",
   "metadata": {},
   "outputs": [
    {
     "name": "stdout",
     "output_type": "stream",
     "text": [
      "2\n",
      "3\n",
      "4\n",
      "2\n"
     ]
    }
   ],
   "source": [
    "# Q1.\n",
    "# For loop: When we have the value of i like in the case of list, tuple etc. In that case we use the for loop\n",
    "# While loop: When there is comparison while running the loop\n",
    "\n",
    "l = [2,3,4,2]  # Create the list\n",
    "\n",
    "for i in l:\n",
    "    print(i)"
   ]
  },
  {
   "cell_type": "code",
   "execution_count": 2,
   "id": "40f032db-1548-4687-8697-03340f7df90f",
   "metadata": {},
   "outputs": [
    {
     "name": "stdout",
     "output_type": "stream",
     "text": [
      "5\n",
      "4\n",
      "3\n",
      "2\n",
      "1\n"
     ]
    }
   ],
   "source": [
    "num = 5\n",
    "\n",
    "while num > 0:  # Checking the num value and the comparison we applied\n",
    "    print(num)\n",
    "    num = num - 1"
   ]
  },
  {
   "cell_type": "raw",
   "id": "374060cb-7d5c-4f53-8a94-228e59fb13be",
   "metadata": {},
   "source": [
    "Q2.\n",
    "Sum and product of 10 natural Numbers"
   ]
  },
  {
   "cell_type": "code",
   "execution_count": 5,
   "id": "1dd5e55c-dee3-4b48-b590-8c289d3e4f54",
   "metadata": {},
   "outputs": [
    {
     "name": "stdout",
     "output_type": "stream",
     "text": [
      "55 3628800\n"
     ]
    }
   ],
   "source": [
    "# Q2.\n",
    "# Sum and product of 10 natural Numbers\n",
    "\n",
    "add = 0\n",
    "prod = 1\n",
    "for i in range(1,11):\n",
    "    add = add + i\n",
    "    prod = prod * i\n",
    "print(add, prod)"
   ]
  },
  {
   "cell_type": "code",
   "execution_count": 7,
   "id": "f1ff424d-7acd-4cb2-a7a5-a5144e6e0aff",
   "metadata": {},
   "outputs": [
    {
     "name": "stdout",
     "output_type": "stream",
     "text": [
      "55 3628800\n"
     ]
    }
   ],
   "source": [
    "add = 0\n",
    "prod = 1\n",
    "n = 10\n",
    "while n > 0:\n",
    "    add = add + n\n",
    "    prod = prod * n\n",
    "    n = n-1\n",
    "print(add, prod)"
   ]
  },
  {
   "cell_type": "raw",
   "id": "f5794740-698c-4548-9902-18a466113793",
   "metadata": {},
   "source": [
    "Q3.\n",
    "Caluculate the Electricity bill for a household"
   ]
  },
  {
   "cell_type": "code",
   "execution_count": 27,
   "id": "ef6e2390-9591-493e-8db5-a159a889b54c",
   "metadata": {},
   "outputs": [],
   "source": [
    "# Q3.\n",
    "# Caluculate the Electricity bill for a household\n",
    "\n",
    "total_units = 310\n",
    "total_charged = 0\n",
    "\n",
    "for unit in range(1,total_units + 1):\n",
    "    if unit <= 100:\n",
    "        total_charged = total_charged + 4.5\n",
    "    elif unit > 100 and unit <= 200:\n",
    "        total_charged = total_charged + 6\n",
    "    elif unit > 200 and unit <= 300:\n",
    "        total_charged = total_charged + 10\n",
    "    else:\n",
    "        total_charged = total_charged + 20\n",
    "        \n",
    "total_charged"
   ]
  },
  {
   "cell_type": "raw",
   "id": "6d9f60b2-dfa8-426b-8888-bc591118f6e5",
   "metadata": {},
   "source": [
    "Q4.\n",
    "Check the cube of the number is divisible by 4 or 5, form 1 to 100."
   ]
  },
  {
   "cell_type": "code",
   "execution_count": 39,
   "id": "b0f933ee-4fff-40c5-9094-6b383f04da0d",
   "metadata": {},
   "outputs": [
    {
     "name": "stdout",
     "output_type": "stream",
     "text": [
      "[2, 4, 5, 6, 8, 10, 12, 14, 15, 16, 18, 20, 22, 24, 25, 26, 28, 30, 32, 34, 35, 36, 38, 40, 42, 44, 45, 46, 48, 50, 52, 54, 55, 56, 58, 60, 62, 64, 65, 66, 68, 70, 72, 74, 75, 76, 78, 80, 82, 84, 85, 86, 88, 90, 92, 94, 95, 96, 98, 100]\n"
     ]
    }
   ],
   "source": [
    "# Q4.\n",
    "# Check the cube of the number is divisible by 4 or 5, form 1 to 100.\n",
    "\n",
    "# using For loop\n",
    "num = 0\n",
    "l = []\n",
    "for i in list(range(1,101)):\n",
    "    num = i**3\n",
    "    if num % 4 == 0 or num % 5==0:\n",
    "        l.append(i)\n",
    "    \n",
    "print(l)"
   ]
  },
  {
   "cell_type": "code",
   "execution_count": 35,
   "id": "c96f58dc-b77a-44a8-bcfe-4ee1d982ec79",
   "metadata": {},
   "outputs": [],
   "source": [
    "# using while loop\n",
    "i = 1\n",
    "l1 = []\n",
    "while i <= 100:\n",
    "    if i**3%4 == 0 or i**3%5 ==0:\n",
    "        l1.append(i)\n",
    "    i = i + 1"
   ]
  },
  {
   "cell_type": "code",
   "execution_count": 38,
   "id": "efed5c27-2db1-4623-bcb8-5963a5f0381e",
   "metadata": {},
   "outputs": [
    {
     "name": "stdout",
     "output_type": "stream",
     "text": [
      "[2, 4, 5, 6, 8, 10, 12, 14, 15, 16, 18, 20, 22, 24, 25, 26, 28, 30, 32, 34, 35, 36, 38, 40, 42, 44, 45, 46, 48, 50, 52, 54, 55, 56, 58, 60, 62, 64, 65, 66, 68, 70, 72, 74, 75, 76, 78, 80, 82, 84, 85, 86, 88, 90, 92, 94, 95, 96, 98, 100]\n"
     ]
    }
   ],
   "source": [
    "print(l1)"
   ]
  },
  {
   "cell_type": "markdown",
   "id": "a734f1a7-0877-4599-8501-d6d65a44e8db",
   "metadata": {},
   "source": [
    "<!-- Q5.\n",
    "Count the vowels in the string -->"
   ]
  },
  {
   "cell_type": "code",
   "execution_count": 46,
   "id": "6c3f5a96-1e67-4095-bd04-50d9917252be",
   "metadata": {},
   "outputs": [
    {
     "data": {
      "text/plain": [
       "12"
      ]
     },
     "execution_count": 46,
     "metadata": {},
     "output_type": "execute_result"
    }
   ],
   "source": [
    "# Q5.\n",
    "# Count the vowels in the string\n",
    "\n",
    "string = 'I want to become a data scientist'\n",
    "vowels_count = 0\n",
    "for i in string.lower():\n",
    "    if i in ('a','e','i','o','u'):\n",
    "        vowels_count = vowels_count + 1\n",
    "        \n",
    "vowels_count"
   ]
  },
  {
   "cell_type": "code",
   "execution_count": null,
   "id": "266a82b0-1b10-47ba-8381-b93a724eb4b9",
   "metadata": {},
   "outputs": [],
   "source": []
  },
  {
   "cell_type": "code",
   "execution_count": null,
   "id": "67d467ad-b8e1-40b3-8b14-6be262617a10",
   "metadata": {},
   "outputs": [],
   "source": []
  }
 ],
 "metadata": {
  "kernelspec": {
   "display_name": "Python 3 (ipykernel)",
   "language": "python",
   "name": "python3"
  },
  "language_info": {
   "codemirror_mode": {
    "name": "ipython",
    "version": 3
   },
   "file_extension": ".py",
   "mimetype": "text/x-python",
   "name": "python",
   "nbconvert_exporter": "python",
   "pygments_lexer": "ipython3",
   "version": "3.10.6"
  }
 },
 "nbformat": 4,
 "nbformat_minor": 5
}
