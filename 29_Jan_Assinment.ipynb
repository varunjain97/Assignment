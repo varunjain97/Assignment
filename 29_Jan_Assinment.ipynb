{
 "cells": [
  {
   "cell_type": "raw",
   "id": "c18331d0-7e1c-4f10-82a2-0efd1d4879fe",
   "metadata": {},
   "source": [
    "Q.1 Who developed Python programing language..?\n",
    "Guido van Rossum"
   ]
  },
  {
   "cell_type": "raw",
   "id": "d8fedf7c-1d3e-4ab4-8319-0e09cfa84b70",
   "metadata": {},
   "source": [
    "Q.2 Which type of language does python support..?\n",
    "C, C++ and Java"
   ]
  },
  {
   "cell_type": "raw",
   "id": "7d69dd52-444b-4662-ab4b-84c48adacdb3",
   "metadata": {},
   "source": [
    "Q.3 Is python casesensitive when dealing with identifier..?\n",
    "Yes"
   ]
  },
  {
   "cell_type": "raw",
   "id": "ccd05753-87bf-46ac-9efd-ca3853790613",
   "metadata": {},
   "source": [
    "Q.4 What is the correct extention of the python file..?\n",
    ".py"
   ]
  },
  {
   "cell_type": "raw",
   "id": "fe00dd5b-d9f1-440f-b091-f0d8e6c14cb3",
   "metadata": {},
   "source": [
    "Q.5 Is Python code compliled or interpreted..?\n",
    "Interpreted"
   ]
  },
  {
   "cell_type": "raw",
   "id": "fc008484-a0cc-46ae-a935-b413d3c2b6f8",
   "metadata": {},
   "source": [
    "Q.6 Name the few blocks of code used to define python language..?\n",
    "Indentation"
   ]
  },
  {
   "cell_type": "raw",
   "id": "a89b48c7-cf79-4a84-ac14-d82c9e473972",
   "metadata": {},
   "source": [
    "Q.7 State the character used to give single line comment in python..?\n",
    "#"
   ]
  },
  {
   "cell_type": "raw",
   "id": "906e0434-64e0-4f08-a251-1b338a831749",
   "metadata": {},
   "source": [
    "Q.8 Check the Version..?\n",
    "\n",
    "By code cell \n",
    "import sys\n",
    "sys.version\n",
    "\n",
    "By Anaconda promt\n",
    "python --version"
   ]
  },
  {
   "cell_type": "code",
   "execution_count": 5,
   "id": "578fba3f-a2f8-480e-b882-eabb2dff06f3",
   "metadata": {},
   "outputs": [
    {
     "data": {
      "text/plain": [
       "'3.10.6 | packaged by conda-forge | (main, Aug 22 2022, 20:35:26) [GCC 10.4.0]'"
      ]
     },
     "execution_count": 5,
     "metadata": {},
     "output_type": "execute_result"
    }
   ],
   "source": [
    "import sys\n",
    "sys.version"
   ]
  },
  {
   "cell_type": "raw",
   "id": "2dbcd41a-6d6b-499c-82ee-b4a3e7c44871",
   "metadata": {},
   "source": [
    "Q.9 python supports the creation of anonymous functions at runtime using a constructor called Lambda."
   ]
  },
  {
   "cell_type": "raw",
   "id": "879d5871-700f-436c-93be-6f76e5509ced",
   "metadata": {},
   "source": [
    "Q.10 What does pip stand for python..?\n",
    "pip :- Please intall packages (use to install the packages )"
   ]
  },
  {
   "cell_type": "raw",
   "id": "ce61781d-fb3b-49d0-a761-7486e729d7b5",
   "metadata": {},
   "source": [
    "Q.11 Few built in function in Python.\n",
    "sum() , abs(), len(), reversed(), pow()"
   ]
  },
  {
   "cell_type": "raw",
   "id": "7bbacf0f-3573-4288-a25f-d444e9dd9837",
   "metadata": {},
   "source": [
    "12 Maximum possible length of indentifier is 79"
   ]
  },
  {
   "cell_type": "raw",
   "id": "5b05bdd7-b7c2-4f2d-84a3-3a2c55f1c942",
   "metadata": {},
   "source": [
    "13 Benefits of using python\n",
    "------------------------------\n",
    "1. Easy to understand\n",
    "2. We don't need to define data types\n",
    "3. we can add packages which is needed only."
   ]
  },
  {
   "cell_type": "raw",
   "id": "84ba6886-b036-491a-b97b-2589bd783415",
   "metadata": {},
   "source": [
    "Memory managed in python..?\n",
    "---------------------------------\n",
    "1. Garbage Collection       \n",
    "2. Reference Counting"
   ]
  },
  {
   "cell_type": "raw",
   "id": "b641cd9e-b3da-4ffc-b946-8ce022353d37",
   "metadata": {},
   "source": [
    "Install python in windows\n",
    "We can download Anaconda to use python. while installing the python we can add our file path."
   ]
  },
  {
   "cell_type": "raw",
   "id": "8f849c68-3f49-4f8c-bd01-ede28f5d2859",
   "metadata": {},
   "source": [
    "Is indentation require in Python..\n",
    "Yes"
   ]
  },
  {
   "cell_type": "code",
   "execution_count": null,
   "id": "3aad6056-c45c-4382-ada9-2166e588b9b8",
   "metadata": {},
   "outputs": [],
   "source": []
  },
  {
   "cell_type": "code",
   "execution_count": null,
   "id": "d683a9d1-33bd-49f7-bd7a-cb370a6d7931",
   "metadata": {},
   "outputs": [],
   "source": []
  }
 ],
 "metadata": {
  "kernelspec": {
   "display_name": "Python 3 (ipykernel)",
   "language": "python",
   "name": "python3"
  },
  "language_info": {
   "codemirror_mode": {
    "name": "ipython",
    "version": 3
   },
   "file_extension": ".py",
   "mimetype": "text/x-python",
   "name": "python",
   "nbconvert_exporter": "python",
   "pygments_lexer": "ipython3",
   "version": "3.10.6"
  }
 },
 "nbformat": 4,
 "nbformat_minor": 5
}
