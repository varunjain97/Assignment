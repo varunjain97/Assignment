{
 "cells": [
  {
   "cell_type": "code",
   "execution_count": 55,
   "id": "3f19948a-a693-418f-beea-f57e113c84f7",
   "metadata": {},
   "outputs": [],
   "source": [
    "# Q1\n",
    "class vehicle :\n",
    "    \n",
    "    def __init__(self,name_of_vehicle, max_speed, average_of_vehicle) :\n",
    "        self.name_of_vehicle = name_of_vehicle\n",
    "        self.max_speed = max_speed\n",
    "        self.average_of_vehicle = average_of_vehicle\n",
    "        \n",
    "#     def display():\n",
    "#         print(self.name_of_vehicle)"
   ]
  },
  {
   "cell_type": "code",
   "execution_count": 56,
   "id": "9a97d31d-39d9-4930-a773-8d99a40c7303",
   "metadata": {},
   "outputs": [],
   "source": [
    "veh = vehicle('Toyota',120,25)"
   ]
  },
  {
   "cell_type": "code",
   "execution_count": 64,
   "id": "b1d86b35-d7ba-416a-b12c-57d7172b2abf",
   "metadata": {},
   "outputs": [],
   "source": [
    "# Q2\n",
    "class car(vehicle):\n",
    "    \n",
    "    def __init__(self,name_of_vehicle, max_speed, average_of_vehicle ,seating_capacity):\n",
    "        self.seating_capacity = seating_capacity\n",
    "        \n",
    "        vehicle.__init__(self,name_of_vehicle, max_speed, average_of_vehicle)\n",
    "        \n",
    "    def display(self):\n",
    "        print(self.name_of_vehicle,self.seating_capacity)"
   ]
  },
  {
   "cell_type": "code",
   "execution_count": 65,
   "id": "2676704e-0d55-4224-802b-78854f14e000",
   "metadata": {},
   "outputs": [],
   "source": [
    "c = car('Toyota',120,25,7)"
   ]
  },
  {
   "cell_type": "code",
   "execution_count": 66,
   "id": "a374c443-8841-4a5f-a7fe-b749c54d0603",
   "metadata": {},
   "outputs": [
    {
     "name": "stdout",
     "output_type": "stream",
     "text": [
      "Toyota 7\n"
     ]
    }
   ],
   "source": [
    "c.display()"
   ]
  },
  {
   "cell_type": "code",
   "execution_count": 81,
   "id": "20e294a3-e165-47eb-82b3-748a2a227ae5",
   "metadata": {},
   "outputs": [],
   "source": [
    "# Q3\n",
    "# Multiple Inheritance: We can get the data from multiple classes by linking one to other.\n",
    "\n",
    "class test :\n",
    "    \n",
    "    def t1(self):\n",
    "        return ('This is my test 1')"
   ]
  },
  {
   "cell_type": "code",
   "execution_count": 82,
   "id": "875e1edf-2806-40aa-adc3-e16829e625de",
   "metadata": {},
   "outputs": [],
   "source": [
    "class test1(test) :\n",
    "    \n",
    "    def t2(self):\n",
    "        return('This is my test2 data')"
   ]
  },
  {
   "cell_type": "code",
   "execution_count": 113,
   "id": "da29a1e3-ec1b-4d9c-a5bf-e7656160e9f1",
   "metadata": {},
   "outputs": [],
   "source": [
    "class test3(test1):\n",
    "    \n",
    "    def t3(self):\n",
    "        return 'Data Comes from final class'\n",
    "    \n",
    "    def display(self):\n",
    "        return test.t1(self), test1.t2(self) , test3.t3(self)"
   ]
  },
  {
   "cell_type": "code",
   "execution_count": 114,
   "id": "8de9f3f0-b40a-4cb0-a3a4-3c95a7f3e68b",
   "metadata": {},
   "outputs": [],
   "source": [
    "txt = test3()"
   ]
  },
  {
   "cell_type": "code",
   "execution_count": 116,
   "id": "e003a741-2ebe-4e12-b2cc-b150360d4dff",
   "metadata": {},
   "outputs": [
    {
     "data": {
      "text/plain": [
       "('This is my test 1', 'This is my test2 data', 'Data Comes from final class')"
      ]
     },
     "execution_count": 116,
     "metadata": {},
     "output_type": "execute_result"
    }
   ],
   "source": [
    "txt.display()   # We can acess the class 1 and class 2 data with in class 3 that's called multiple inheritance"
   ]
  },
  {
   "cell_type": "code",
   "execution_count": null,
   "id": "c7c7ab5a-3859-4482-b816-a326454a7e56",
   "metadata": {},
   "outputs": [],
   "source": []
  },
  {
   "cell_type": "raw",
   "id": "eec161d5-595a-4be2-ab00-a4fb8320cadd",
   "metadata": {},
   "source": [
    "Q 4 \n",
    "Getter : Getter is use to Get the value\n",
    "Setter : Setter is use to set the value"
   ]
  },
  {
   "cell_type": "code",
   "execution_count": 140,
   "id": "e4227567-7d0d-49f2-890f-f16d4856cd96",
   "metadata": {},
   "outputs": [],
   "source": [
    "class pwskills :\n",
    "    \n",
    "    def __init__(self,course_name, course_price):\n",
    "        self.course_name = course_name\n",
    "        self.__course_price = course_price\n",
    "     \n",
    "    @property\n",
    "    def cp_access(self):\n",
    "        return self.__course_price\n",
    "    \n",
    "    @cp_access.setter\n",
    "    def sett(self,price):\n",
    "        self.__course_price = 0 if price < 0 else price\n",
    "        \n",
    "    @cp_access.getter\n",
    "    def gett(self):\n",
    "        return self.__course_price"
   ]
  },
  {
   "cell_type": "code",
   "execution_count": 142,
   "id": "bd70d666-1b85-421f-b292-d48f8716f1f0",
   "metadata": {},
   "outputs": [],
   "source": [
    "pw = pwskills('Data Science',3500)"
   ]
  },
  {
   "cell_type": "code",
   "execution_count": 145,
   "id": "617fe0f6-602e-4cb8-90c8-3db4119cc2e1",
   "metadata": {},
   "outputs": [],
   "source": [
    "pw.sett = 250"
   ]
  },
  {
   "cell_type": "code",
   "execution_count": 146,
   "id": "7986e7e5-f0f3-4a88-99bc-6c5dc2daad2c",
   "metadata": {},
   "outputs": [
    {
     "data": {
      "text/plain": [
       "250"
      ]
     },
     "execution_count": 146,
     "metadata": {},
     "output_type": "execute_result"
    }
   ],
   "source": [
    "pw.gett"
   ]
  },
  {
   "cell_type": "code",
   "execution_count": 147,
   "id": "db71371f-b926-493d-b6a1-3c938005dcb9",
   "metadata": {},
   "outputs": [],
   "source": [
    "class pwskills :\n",
    "    \n",
    "    def __init__(self,course_name, course_price):\n",
    "        self.course_name = course_name\n",
    "        self.__course_price = course_price\n",
    "        \n",
    "    def cp_access(self):\n",
    "        return self.__course_price\n",
    "    \n",
    "    def setter(self,price):\n",
    "        self.__course_price = 0 if price < 0 else price"
   ]
  },
  {
   "cell_type": "code",
   "execution_count": 148,
   "id": "658d9b4b-fd74-48e3-9731-9a6c76a24925",
   "metadata": {},
   "outputs": [],
   "source": [
    "p = pwskills('Data Science',3500)"
   ]
  },
  {
   "cell_type": "code",
   "execution_count": 149,
   "id": "158bfe3b-871a-4887-8f59-07ac9ebe1122",
   "metadata": {},
   "outputs": [
    {
     "data": {
      "text/plain": [
       "3500"
      ]
     },
     "execution_count": 149,
     "metadata": {},
     "output_type": "execute_result"
    }
   ],
   "source": [
    "p.cp_access()"
   ]
  },
  {
   "cell_type": "code",
   "execution_count": 150,
   "id": "d82d4584-839e-4fd2-b489-29fbb3b3d6f2",
   "metadata": {},
   "outputs": [],
   "source": [
    "p.setter(455)"
   ]
  },
  {
   "cell_type": "code",
   "execution_count": 151,
   "id": "17a5d38e-7949-4250-8c2f-b9bbfbc11d7d",
   "metadata": {},
   "outputs": [
    {
     "data": {
      "text/plain": [
       "455"
      ]
     },
     "execution_count": 151,
     "metadata": {},
     "output_type": "execute_result"
    }
   ],
   "source": [
    "p.cp_access()"
   ]
  },
  {
   "cell_type": "code",
   "execution_count": 5,
   "id": "23a70111-1605-4a06-85e2-b4083b0eac6a",
   "metadata": {},
   "outputs": [],
   "source": [
    "#Q 5\n",
    "# First we have creted a variable and then we want to change its value then we can overwrite that value.\n",
    "\n",
    "class pwskills:\n",
    "    \n",
    "    def __init__(self, std_id, std_marks):\n",
    "        self.std_id = std_id\n",
    "        self.std_marks = std_marks\n",
    "        \n",
    "    def get_detail(self):\n",
    "        return self.std_id, self.std_marks"
   ]
  },
  {
   "cell_type": "code",
   "execution_count": 6,
   "id": "521e6c6e-740d-40a7-9af5-1b1aac9c5f37",
   "metadata": {},
   "outputs": [],
   "source": [
    "pw = pwskills(101,52)"
   ]
  },
  {
   "cell_type": "code",
   "execution_count": 7,
   "id": "8c847426-a4e6-43b5-b74a-38a049532f7c",
   "metadata": {},
   "outputs": [
    {
     "data": {
      "text/plain": [
       "(101, 52)"
      ]
     },
     "execution_count": 7,
     "metadata": {},
     "output_type": "execute_result"
    }
   ],
   "source": [
    "pw.get_detail()"
   ]
  },
  {
   "cell_type": "code",
   "execution_count": 8,
   "id": "2d8fc9f3-e6a9-45ed-8f5d-5bd88e98df6d",
   "metadata": {},
   "outputs": [],
   "source": [
    "pw.std_marks = 45"
   ]
  },
  {
   "cell_type": "code",
   "execution_count": 9,
   "id": "a31af93d-8461-4f94-b2c5-77943e6b7e46",
   "metadata": {},
   "outputs": [
    {
     "data": {
      "text/plain": [
       "(101, 45)"
      ]
     },
     "execution_count": 9,
     "metadata": {},
     "output_type": "execute_result"
    }
   ],
   "source": [
    "pw.get_detail()"
   ]
  },
  {
   "cell_type": "code",
   "execution_count": null,
   "id": "588d6ba5-27ba-4ca4-bc63-310f3fb205d3",
   "metadata": {},
   "outputs": [],
   "source": []
  }
 ],
 "metadata": {
  "kernelspec": {
   "display_name": "Python 3 (ipykernel)",
   "language": "python",
   "name": "python3"
  },
  "language_info": {
   "codemirror_mode": {
    "name": "ipython",
    "version": 3
   },
   "file_extension": ".py",
   "mimetype": "text/x-python",
   "name": "python",
   "nbconvert_exporter": "python",
   "pygments_lexer": "ipython3",
   "version": "3.10.6"
  }
 },
 "nbformat": 4,
 "nbformat_minor": 5
}
