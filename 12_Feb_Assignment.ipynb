{
 "cells": [
  {
   "cell_type": "raw",
   "id": "7c4646cc-92e0-4091-875a-e54fabfc53dc",
   "metadata": {},
   "source": [
    "Q1\n",
    "\n",
    "Exception : Exception is collection of errors when we write a big code and the error comes in it, then after the position where we\n",
    "            got the error code doesn't execute but if we want my whole code will run then in that case Exception comes.\n",
    "            \n",
    "Syntax Error : When we write the program and by mistake we put the wrong syntax in that case the error is Syntax error. \n",
    "Exceptions   : When we write the program and code is all good and we got the error then the error comes in Exception."
   ]
  },
  {
   "cell_type": "raw",
   "id": "beb543f9-22c6-402f-b50a-60310bf90c3d",
   "metadata": {},
   "source": [
    "Q2\n",
    "\n",
    "If we write a code and  code is all good there is no problem by seeing the coding and it gives the error in that case we can't see\n",
    "where the actual problem is, for seeing the problem or debug it we put the Exception.\n",
    "\n",
    "suppose we have 1k line of code and apx 100th of line code pass the value 0 into a and after that pass the value 500 to b then my code gives error, we can't see where the error comes but if we want to ignore this and run the other code then we have to use Exceptions."
   ]
  },
  {
   "cell_type": "code",
   "execution_count": 4,
   "id": "12dccdb5-4f2d-4160-8c47-62256fa490c7",
   "metadata": {},
   "outputs": [
    {
     "ename": "ZeroDivisionError",
     "evalue": "division by zero",
     "output_type": "error",
     "traceback": [
      "\u001b[0;31m---------------------------------------------------------------------------\u001b[0m",
      "\u001b[0;31mZeroDivisionError\u001b[0m                         Traceback (most recent call last)",
      "Cell \u001b[0;32mIn [4], line 4\u001b[0m\n\u001b[1;32m      1\u001b[0m a \u001b[38;5;241m=\u001b[39m \u001b[38;5;241m0\u001b[39m\n\u001b[1;32m      2\u001b[0m b \u001b[38;5;241m=\u001b[39m \u001b[38;5;241m500\u001b[39m\n\u001b[0;32m----> 4\u001b[0m c \u001b[38;5;241m=\u001b[39m \u001b[43mb\u001b[49m\u001b[38;5;241;43m/\u001b[39;49m\u001b[43ma\u001b[49m\n",
      "\u001b[0;31mZeroDivisionError\u001b[0m: division by zero"
     ]
    }
   ],
   "source": [
    "a = 0\n",
    "b = 500\n",
    "\n",
    "c = b/a\n"
   ]
  },
  {
   "cell_type": "code",
   "execution_count": 19,
   "id": "f989cd24-774d-4cdd-80b2-9a6bfdb54a5d",
   "metadata": {},
   "outputs": [],
   "source": [
    "# Q3 \n",
    "\n",
    "# For Catching the Exceptions we use the try commnad and for handle the Exception we use the Except Command.\n",
    "\n",
    "def pt(num):\n",
    "    '''Enter your marks seprated by comma'''\n",
    "    try :\n",
    "        n = (num)\n",
    "        print(n)\n",
    "    except Exception as e:\n",
    "        print('Reason : ',e)"
   ]
  },
  {
   "cell_type": "code",
   "execution_count": 35,
   "id": "8ce6b740-dcea-49fb-bc45-f3b497afc933",
   "metadata": {},
   "outputs": [
    {
     "name": "stdout",
     "output_type": "stream",
     "text": [
      "Can you debug the error\n"
     ]
    }
   ],
   "source": [
    "# Q 4\n",
    "# Try and Else : Else will run while try command execute sucessfully\n",
    "\n",
    "try : \n",
    "    with open('test1.txt','w') as fl:\n",
    "        fl.write('Can you debug the error')\n",
    "        fl.close()\n",
    "\n",
    "except Exception as e:\n",
    "    print('Reason for Error: ',e)\n",
    "\n",
    "else :\n",
    "    with open('test1.txt','r') as f2:\n",
    "        print(f2.read())\n",
    "        \n",
    "# Here my code is successfully run (try and else command )"
   ]
  },
  {
   "cell_type": "code",
   "execution_count": 39,
   "id": "95cfbd01-5a01-4a8a-ba1f-ea2b45c93946",
   "metadata": {},
   "outputs": [
    {
     "name": "stdout",
     "output_type": "stream",
     "text": [
      "Can you debug the error\n",
      "I will be print, becuase I am the boss\n"
     ]
    }
   ],
   "source": [
    "# Finally : Finally will run in both the cases while my code will run or crash\n",
    "\n",
    "try : \n",
    "    with open('test1.txt','w') as fl:\n",
    "        fl.write('Can you debug the error')\n",
    "        fl.close()\n",
    "\n",
    "except Exception as e:\n",
    "    print('Reason for Error: ',e)\n",
    "\n",
    "else :\n",
    "    with open('test1.txt','r') as f2:\n",
    "        print(f2.read())\n",
    "\n",
    "        \n",
    "finally :\n",
    "    print('I will be print, becuase I am the boss')"
   ]
  },
  {
   "cell_type": "code",
   "execution_count": 67,
   "id": "258d33a8-6fe7-4efa-8138-46b21fb00853",
   "metadata": {},
   "outputs": [],
   "source": [
    "# raise : while creating the custum exception function, for printing the error msg we use raise function\n",
    "\n",
    "class height_foot(Exception):\n",
    "    \n",
    "    def __init__(self,msg):\n",
    "        self.msg = msg\n",
    "        \n",
    "def height(h):\n",
    "    \n",
    "    if h < 1:\n",
    "        raise height_foot('Height is very less')\n",
    "    elif h > 7:\n",
    "        raise height_foot('Height is very high')\n",
    "    else:\n",
    "        print('Height is perfect')"
   ]
  },
  {
   "cell_type": "code",
   "execution_count": 68,
   "id": "ece44e8f-aea8-4336-a631-20d468c34390",
   "metadata": {},
   "outputs": [
    {
     "name": "stdin",
     "output_type": "stream",
     "text": [
      "Enter your height in foot :  6\n"
     ]
    },
    {
     "name": "stdout",
     "output_type": "stream",
     "text": [
      "Height is perfect\n"
     ]
    }
   ],
   "source": [
    "try :\n",
    "    hh = int(input('Enter your height in foot : '))\n",
    "    height(hh)\n",
    "    \n",
    "except height_foot as e:\n",
    "    print('Reason : ',e)"
   ]
  },
  {
   "cell_type": "code",
   "execution_count": null,
   "id": "1474515d-bb43-45b6-aad6-33a823821e55",
   "metadata": {},
   "outputs": [],
   "source": [
    "Q5\n",
    "\n",
    "Custom exception handling : while in python the exception is not there and we want to generate a exception \n",
    "\n",
    "Need of Custom Exception\n",
    "In python there are some Exception but I want to generate the different Exception which can help the user what's the actual error is.\n",
    "\n",
    "In Above senario I have generate the Custom Exception."
   ]
  },
  {
   "cell_type": "code",
   "execution_count": null,
   "id": "747ac5db-301f-44d0-92ae-f72fa0548454",
   "metadata": {},
   "outputs": [],
   "source": []
  },
  {
   "cell_type": "code",
   "execution_count": null,
   "id": "c0ac10c5-434c-4181-a0a9-3e1d41efde06",
   "metadata": {},
   "outputs": [],
   "source": []
  },
  {
   "cell_type": "code",
   "execution_count": null,
   "id": "f03c8593-bee3-48e2-8fcc-884a26a4776c",
   "metadata": {},
   "outputs": [],
   "source": []
  },
  {
   "cell_type": "code",
   "execution_count": null,
   "id": "3303c0f4-4446-40e1-ae90-ed8ce5b7850a",
   "metadata": {},
   "outputs": [],
   "source": []
  },
  {
   "cell_type": "code",
   "execution_count": null,
   "id": "fada8e5f-b5ee-4086-b0ac-4c1866dd8d6c",
   "metadata": {},
   "outputs": [],
   "source": []
  }
 ],
 "metadata": {
  "kernelspec": {
   "display_name": "Python 3 (ipykernel)",
   "language": "python",
   "name": "python3"
  },
  "language_info": {
   "codemirror_mode": {
    "name": "ipython",
    "version": 3
   },
   "file_extension": ".py",
   "mimetype": "text/x-python",
   "name": "python",
   "nbconvert_exporter": "python",
   "pygments_lexer": "ipython3",
   "version": "3.10.6"
  }
 },
 "nbformat": 4,
 "nbformat_minor": 5
}
