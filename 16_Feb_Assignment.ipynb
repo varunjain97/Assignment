{
 "cells": [
  {
   "cell_type": "raw",
   "id": "a3f8296d-a91a-4a73-8744-fa0b752d11e3",
   "metadata": {},
   "source": [
    "Q1 \n",
    "\n",
    "DataBase : DataBase is like a folder or the space where we keep the data.\n",
    "SQL : SQL stands for Structure Query Language, It is just a language for handling a structured data format. like tables.\n",
    "NoSQL : Stands for Not Only SQL it genrally use for unstructured data like text, audio, videos, images."
   ]
  },
  {
   "cell_type": "raw",
   "id": "140bdc59-b468-4e8e-990e-f9ac0ca3099e",
   "metadata": {},
   "source": [
    "Q2\n",
    "\n",
    "DDL stands for Data Definition Language actually consists of the SQL commands that can be used to define the database schema.\n",
    "CREATE : Create is use to create a database or table\n",
    "DROP : Drop is use to drop or delete a table from database.\n",
    "ALTER : Alter is use to updation in column name in a table.\n",
    "TRUNCATE : Truncate is used to delete all the rows from the table."
   ]
  },
  {
   "cell_type": "raw",
   "id": "618d2dee-0113-45a0-80a8-d5f4e2e4dbc1",
   "metadata": {},
   "source": [
    "CREATE DATABASE University;\n",
    "create Table Course (course_Id INT, Course_name VARCHAR(200), Faculty_id INT,semester INT);\n",
    "\n",
    "DROP Table Course;\n",
    "\n",
    "ALTER TABLE Course ADD (Rating INT);\n",
    "\n",
    "TRUNCATE TABLE Course;"
   ]
  },
  {
   "cell_type": "raw",
   "id": "ce7fb742-c9e3-4643-b6c6-c1f6a5591340",
   "metadata": {},
   "source": [
    "DML stands for Data Manipulation language which deals with data manipulation, includes most common SQL statements\n",
    "it is used to store, modify, retrieve, delete and update data in a database.\n",
    "\n",
    "Insert : Insert command intersting the values into the data\n",
    "Update : The UPDATE statement in SQL is used to update the data of an existing table in database. We can update single columns as well as                multiple columns using UPDATE statement as per our requirement.\n",
    "Delete : Delete command is use to delete the table"
   ]
  },
  {
   "cell_type": "raw",
   "id": "dda0b5bb-f69e-4c6e-a97d-08256fbe2274",
   "metadata": {},
   "source": [
    "INSERT INTO table_name VALUES (value, value1, value2, value3 ...)\n",
    "\n",
    "update department set budget = 500\n",
    "where budget > 100000;\n",
    "\n",
    "DELETE FROM department\n",
    "WHERE budget < 1000;\n"
   ]
  },
  {
   "cell_type": "raw",
   "id": "e03dff5e-9d1b-449f-9a4b-e50942705fa4",
   "metadata": {},
   "source": [
    "DQL stands for Data Query Language :It is a component of SQL statement that allows getting data from the database and imposing order upon it.\n",
    "Select is used to Get the data:"
   ]
  },
  {
   "cell_type": "raw",
   "id": "cb55be2e-badc-4b6f-9e5d-676bdf50a2e4",
   "metadata": {},
   "source": [
    "Select * from department;"
   ]
  },
  {
   "cell_type": "code",
   "execution_count": null,
   "id": "63bbae61-fad2-47e4-a379-babb4f221679",
   "metadata": {},
   "outputs": [],
   "source": [
    "Primary Key : This is a column where every value is unique it can't be match with other value like student id\n",
    "Foriegn key : we use the primary key in deferent table and use the column then called that column as foriegn key."
   ]
  },
  {
   "cell_type": "code",
   "execution_count": 4,
   "id": "936e054a-3518-40d1-9167-3081e30e791f",
   "metadata": {},
   "outputs": [
    {
     "ename": "ModuleNotFoundError",
     "evalue": "No module named 'mysql'",
     "output_type": "error",
     "traceback": [
      "\u001b[0;31m---------------------------------------------------------------------------\u001b[0m",
      "\u001b[0;31mModuleNotFoundError\u001b[0m                       Traceback (most recent call last)",
      "Cell \u001b[0;32mIn [4], line 1\u001b[0m\n\u001b[0;32m----> 1\u001b[0m \u001b[38;5;28;01mimport\u001b[39;00m \u001b[38;5;21;01mmysql\u001b[39;00m\n",
      "\u001b[0;31mModuleNotFoundError\u001b[0m: No module named 'mysql'"
     ]
    }
   ],
   "source": [
    "import mysql"
   ]
  },
  {
   "cell_type": "code",
   "execution_count": 2,
   "id": "e3f91731-53b1-41dd-a76c-44d6594f5534",
   "metadata": {},
   "outputs": [
    {
     "name": "stdout",
     "output_type": "stream",
     "text": [
      "Collecting mysql\n",
      "  Downloading mysql-0.0.3-py3-none-any.whl (1.2 kB)\n",
      "Collecting mysqlclient\n",
      "  Downloading mysqlclient-2.1.1.tar.gz (88 kB)\n",
      "\u001b[2K     \u001b[90m━━━━━━━━━━━━━━━━━━━━━━━━━━━━━━━━━━━━━━━━\u001b[0m \u001b[32m88.1/88.1 kB\u001b[0m \u001b[31m8.0 MB/s\u001b[0m eta \u001b[36m0:00:00\u001b[0m\n",
      "\u001b[?25h  Preparing metadata (setup.py) ... \u001b[?25lerror\n",
      "  \u001b[1;31merror\u001b[0m: \u001b[1msubprocess-exited-with-error\u001b[0m\n",
      "  \n",
      "  \u001b[31m×\u001b[0m \u001b[32mpython setup.py egg_info\u001b[0m did not run successfully.\n",
      "  \u001b[31m│\u001b[0m exit code: \u001b[1;36m1\u001b[0m\n",
      "  \u001b[31m╰─>\u001b[0m \u001b[31m[16 lines of output]\u001b[0m\n",
      "  \u001b[31m   \u001b[0m /bin/sh: 1: mysql_config: not found\n",
      "  \u001b[31m   \u001b[0m /bin/sh: 1: mariadb_config: not found\n",
      "  \u001b[31m   \u001b[0m /bin/sh: 1: mysql_config: not found\n",
      "  \u001b[31m   \u001b[0m Traceback (most recent call last):\n",
      "  \u001b[31m   \u001b[0m   File \"<string>\", line 2, in <module>\n",
      "  \u001b[31m   \u001b[0m   File \"<pip-setuptools-caller>\", line 34, in <module>\n",
      "  \u001b[31m   \u001b[0m   File \"/tmp/pip-install-hfrpp35t/mysqlclient_8d2c683ac49a4448824841f59ce639e2/setup.py\", line 15, in <module>\n",
      "  \u001b[31m   \u001b[0m     metadata, options = get_config()\n",
      "  \u001b[31m   \u001b[0m   File \"/tmp/pip-install-hfrpp35t/mysqlclient_8d2c683ac49a4448824841f59ce639e2/setup_posix.py\", line 70, in get_config\n",
      "  \u001b[31m   \u001b[0m     libs = mysql_config(\"libs\")\n",
      "  \u001b[31m   \u001b[0m   File \"/tmp/pip-install-hfrpp35t/mysqlclient_8d2c683ac49a4448824841f59ce639e2/setup_posix.py\", line 31, in mysql_config\n",
      "  \u001b[31m   \u001b[0m     raise OSError(\"{} not found\".format(_mysql_config_path))\n",
      "  \u001b[31m   \u001b[0m OSError: mysql_config not found\n",
      "  \u001b[31m   \u001b[0m mysql_config --version\n",
      "  \u001b[31m   \u001b[0m mariadb_config --version\n",
      "  \u001b[31m   \u001b[0m mysql_config --libs\n",
      "  \u001b[31m   \u001b[0m \u001b[31m[end of output]\u001b[0m\n",
      "  \n",
      "  \u001b[1;35mnote\u001b[0m: This error originates from a subprocess, and is likely not a problem with pip.\n",
      "\u001b[1;31merror\u001b[0m: \u001b[1mmetadata-generation-failed\u001b[0m\n",
      "\n",
      "\u001b[31m×\u001b[0m Encountered error while generating package metadata.\n",
      "\u001b[31m╰─>\u001b[0m See above for output.\n",
      "\n",
      "\u001b[1;35mnote\u001b[0m: This is an issue with the package mentioned above, not pip.\n",
      "\u001b[1;36mhint\u001b[0m: See above for details.\n",
      "\u001b[?25h"
     ]
    }
   ],
   "source": [
    "# Below code is to connect mysql to python\n",
    "# Cursor : Curson is just a pointer by which data value go\n",
    "# Execute : It execute the Mysql command\n",
    "\n",
    "import mysql.connector\n",
    "mydb = mysql.connector.connect(\n",
    "  host=\"localhost\",\n",
    "  user=\"abc\",\n",
    "  password=\"password\"\n",
    ")\n",
    "mycursor = mydb.cursor()\n",
    "mycursor.execute(\"use databases\")\n",
    "for x in mycursor:\n",
    "  print(x)"
   ]
  },
  {
   "cell_type": "code",
   "execution_count": 3,
   "id": "2baabaea-777a-4f6a-b1d2-098b665aa1e0",
   "metadata": {},
   "outputs": [],
   "source": [
    "# order of execution of sql clauses\n",
    "\n",
    "WITH\n",
    "SELECT\n",
    "DISTINCT\n",
    "Window Functions\n",
    "FROM\n",
    "WHERE\n",
    "GROUP BY\n",
    "HAVING\t\n",
    "UNION / UNION ALL\n",
    "ORDER BY\n",
    "LIMIT / OFFSET\n",
    "\n"
   ]
  },
  {
   "cell_type": "code",
   "execution_count": 8,
   "id": "b53ed54a-9f05-4df5-bba9-351f8e0a87c1",
   "metadata": {},
   "outputs": [
    {
     "ename": "NameError",
     "evalue": "name 'version' is not defined",
     "output_type": "error",
     "traceback": [
      "\u001b[0;31m---------------------------------------------------------------------------\u001b[0m",
      "\u001b[0;31mNameError\u001b[0m                                 Traceback (most recent call last)",
      "Cell \u001b[0;32mIn [8], line 1\u001b[0m\n\u001b[0;32m----> 1\u001b[0m \u001b[38;5;241m-\u001b[39m\u001b[38;5;241m-\u001b[39m\u001b[43mversion\u001b[49m\n",
      "\u001b[0;31mNameError\u001b[0m: name 'version' is not defined"
     ]
    }
   ],
   "source": []
  },
  {
   "cell_type": "code",
   "execution_count": 5,
   "id": "7a228a50-c6b6-46b5-86fa-b8b0453ecf0e",
   "metadata": {},
   "outputs": [],
   "source": [
    "import os"
   ]
  },
  {
   "cell_type": "code",
   "execution_count": null,
   "id": "464f3f99-e169-447f-9624-d34391d50eb6",
   "metadata": {},
   "outputs": [],
   "source": []
  }
 ],
 "metadata": {
  "kernelspec": {
   "display_name": "Python 3 (ipykernel)",
   "language": "python",
   "name": "python3"
  },
  "language_info": {
   "codemirror_mode": {
    "name": "ipython",
    "version": 3
   },
   "file_extension": ".py",
   "mimetype": "text/x-python",
   "name": "python",
   "nbconvert_exporter": "python",
   "pygments_lexer": "ipython3",
   "version": "3.10.6"
  }
 },
 "nbformat": 4,
 "nbformat_minor": 5
}
