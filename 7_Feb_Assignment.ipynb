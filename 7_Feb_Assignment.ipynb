{
 "cells": [
  {
   "cell_type": "code",
   "execution_count": 1,
   "id": "778e4a08-6d23-49e7-a7ea-471a66d4af33",
   "metadata": {},
   "outputs": [],
   "source": [
    "# Q1"
   ]
  },
  {
   "cell_type": "code",
   "execution_count": 3,
   "id": "ad477809-c6ce-4060-aa00-e12fd3f4ac84",
   "metadata": {},
   "outputs": [],
   "source": [
    "def password(txt):\n",
    "    lst = ['a','b','c','d','e','f','g','h','i','j','k','l','m','n','o','p','q','r','s','t','u','v','w','x','y','z']\n",
    "    upper_list = ['A', 'B', 'C', 'D', 'E', 'F', 'G', 'H', 'I', 'J', 'K', 'L', 'M', 'N', 'O', 'P', 'Q', 'R', 'S', 'T', 'U', 'V', 'W', 'X', 'Y', 'Z']\n",
    "    num = ['0','1','2','3','4','5','6','7','8','9']\n",
    "    special_char = ['!','@','#','$','%','^','&','*']\n",
    "    lw_letter = 0\n",
    "    upper_letter = 0\n",
    "    number = 0\n",
    "    special = 0\n",
    "    \n",
    "    for i in txt:\n",
    "        if i in lst:\n",
    "            lw_letter += 1\n",
    "        elif i in upper_list:\n",
    "            upper_letter += 1\n",
    "        elif i in num:\n",
    "            number += 1\n",
    "        elif i in special_char:\n",
    "            special += 1\n",
    "\n",
    "    if lw_letter >= 2 and upper_letter >= 2 and number >= 1 and special >= 3 and len(txt) >= 10:\n",
    "        print('Valid Password')\n",
    "    else:\n",
    "        print('Invalid Password')"
   ]
  },
  {
   "cell_type": "code",
   "execution_count": 4,
   "id": "173be808-f49e-45e4-8c0e-91c470217794",
   "metadata": {},
   "outputs": [
    {
     "name": "stdout",
     "output_type": "stream",
     "text": [
      "Valid Password\n"
     ]
    }
   ],
   "source": [
    "password('VaE#@run@45823')"
   ]
  },
  {
   "cell_type": "code",
   "execution_count": 5,
   "id": "0380ea5c-11e4-44cb-828b-46d9dd36c169",
   "metadata": {},
   "outputs": [
    {
     "data": {
      "text/plain": [
       "['String start with alph']"
      ]
     },
     "execution_count": 5,
     "metadata": {},
     "output_type": "execute_result"
    }
   ],
   "source": [
    "str = 'hello'\n",
    "\n",
    "['String start with alph' for word in str[0] if word.isalpha()]"
   ]
  },
  {
   "cell_type": "code",
   "execution_count": 11,
   "id": "49c19d63-a3eb-4a30-8084-b2cfb0f6c6df",
   "metadata": {},
   "outputs": [],
   "source": [
    "strng = '3'\n",
    "\n",
    "num = lambda x : int(x)"
   ]
  },
  {
   "cell_type": "code",
   "execution_count": 12,
   "id": "40b4f558-c630-48ff-aa78-52bb6cad39e7",
   "metadata": {},
   "outputs": [
    {
     "data": {
      "text/plain": [
       "3"
      ]
     },
     "execution_count": 12,
     "metadata": {},
     "output_type": "execute_result"
    }
   ],
   "source": [
    "num(strng)"
   ]
  },
  {
   "cell_type": "code",
   "execution_count": 62,
   "id": "ff4b6672-891f-4cdf-b782-609ab382e893",
   "metadata": {},
   "outputs": [
    {
     "data": {
      "text/plain": [
       "[('grapes', 1000), ('mango', 99), ('orange', 80)]"
      ]
     },
     "execution_count": 62,
     "metadata": {},
     "output_type": "execute_result"
    }
   ],
   "source": [
    "tp = [('mango',99),('orange',80),('grapes',1000)]\n",
    "\n",
    "tp1 = sorted([i[::-1] for i in tp])\n",
    "[i[::-1] for i in tp1[::-1]]"
   ]
  },
  {
   "cell_type": "code",
   "execution_count": 42,
   "id": "d7642531-dac5-4206-bdf9-597eae76243c",
   "metadata": {},
   "outputs": [
    {
     "data": {
      "text/plain": [
       "[1, 4, 9, 16, 25, 36, 49, 64, 81, 100]"
      ]
     },
     "execution_count": 42,
     "metadata": {},
     "output_type": "execute_result"
    }
   ],
   "source": [
    "lst = list(range(1,11))\n",
    "\n",
    "sqaure = lambda x: x**2\n",
    "\n",
    "list(map(sqaure,lst))"
   ]
  },
  {
   "cell_type": "code",
   "execution_count": 45,
   "id": "a6d036cf-16b2-4b91-8431-332dc8442428",
   "metadata": {},
   "outputs": [
    {
     "data": {
      "text/plain": [
       "'Even value'"
      ]
     },
     "execution_count": 45,
     "metadata": {},
     "output_type": "execute_result"
    }
   ],
   "source": [
    "num = 8\n",
    "\n",
    "odd_even_func = lambda x : 'Even value' if x % 2 == 0 else 'Odd value'\n",
    "odd_even_func(num)"
   ]
  },
  {
   "cell_type": "code",
   "execution_count": 47,
   "id": "e1c70d5b-ddde-4e13-9cc8-54a2be5f5bc7",
   "metadata": {},
   "outputs": [
    {
     "data": {
      "text/plain": [
       "[1, 3, 5, 7, 9]"
      ]
     },
     "execution_count": 47,
     "metadata": {},
     "output_type": "execute_result"
    }
   ],
   "source": [
    "lst = [1,2,3,4,5,6,7,8,9,10]\n",
    "\n",
    "odd_value = [i for i in lst if i%2 != 0]\n",
    "odd_value"
   ]
  },
  {
   "cell_type": "code",
   "execution_count": 54,
   "id": "bf4c1dcf-b2ec-43b4-bfb5-401b11d46410",
   "metadata": {},
   "outputs": [
    {
     "name": "stdout",
     "output_type": "stream",
     "text": [
      "[1, 2, 3, 4, 5, 6, 0] [-1, -2, -3, -4, -5]\n"
     ]
    }
   ],
   "source": [
    "lst = [1,2,3,4,5,6,-1,-2,-3,-4,-5,0]\n",
    "positive_lst = []\n",
    "Negative_lst = []\n",
    "\n",
    "P_list = [positive_lst.append(x) for x in lst if x >= 0]\n",
    "N_list = [Negative_lst.append(x) for x in lst if x < 0]\n",
    "print(positive_lst,Negative_lst)"
   ]
  },
  {
   "cell_type": "code",
   "execution_count": null,
   "id": "d9760521-7d4f-44f0-83f1-3ce912af77be",
   "metadata": {},
   "outputs": [],
   "source": []
  }
 ],
 "metadata": {
  "kernelspec": {
   "display_name": "Python 3 (ipykernel)",
   "language": "python",
   "name": "python3"
  },
  "language_info": {
   "codemirror_mode": {
    "name": "ipython",
    "version": 3
   },
   "file_extension": ".py",
   "mimetype": "text/x-python",
   "name": "python",
   "nbconvert_exporter": "python",
   "pygments_lexer": "ipython3",
   "version": "3.10.6"
  }
 },
 "nbformat": 4,
 "nbformat_minor": 5
}
