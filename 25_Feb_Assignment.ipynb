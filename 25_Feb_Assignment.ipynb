{
 "cells": [
  {
   "cell_type": "code",
   "execution_count": 1,
   "id": "2f1a80de-91cc-4329-a735-bbf9da049ec6",
   "metadata": {},
   "outputs": [],
   "source": [
    "import pandas as pd\n",
    "\n",
    "course_name = ['Data Science','Machine Learning','Big Data','Data Engineer']\n",
    "duration = [2,3,6,4]\n",
    "\n",
    "df = pd.DataFrame(data = {'course_name' : course_name, 'duration':duration})"
   ]
  },
  {
   "cell_type": "code",
   "execution_count": 2,
   "id": "cfb5bc30-2f0f-4128-8446-d40ead75413d",
   "metadata": {},
   "outputs": [
    {
     "data": {
      "text/html": [
       "<div>\n",
       "<style scoped>\n",
       "    .dataframe tbody tr th:only-of-type {\n",
       "        vertical-align: middle;\n",
       "    }\n",
       "\n",
       "    .dataframe tbody tr th {\n",
       "        vertical-align: top;\n",
       "    }\n",
       "\n",
       "    .dataframe thead th {\n",
       "        text-align: right;\n",
       "    }\n",
       "</style>\n",
       "<table border=\"1\" class=\"dataframe\">\n",
       "  <thead>\n",
       "    <tr style=\"text-align: right;\">\n",
       "      <th></th>\n",
       "      <th>course_name</th>\n",
       "      <th>duration</th>\n",
       "    </tr>\n",
       "  </thead>\n",
       "  <tbody>\n",
       "    <tr>\n",
       "      <th>0</th>\n",
       "      <td>Data Science</td>\n",
       "      <td>2</td>\n",
       "    </tr>\n",
       "    <tr>\n",
       "      <th>1</th>\n",
       "      <td>Machine Learning</td>\n",
       "      <td>3</td>\n",
       "    </tr>\n",
       "    <tr>\n",
       "      <th>2</th>\n",
       "      <td>Big Data</td>\n",
       "      <td>6</td>\n",
       "    </tr>\n",
       "    <tr>\n",
       "      <th>3</th>\n",
       "      <td>Data Engineer</td>\n",
       "      <td>4</td>\n",
       "    </tr>\n",
       "  </tbody>\n",
       "</table>\n",
       "</div>"
      ],
      "text/plain": [
       "        course_name  duration\n",
       "0      Data Science         2\n",
       "1  Machine Learning         3\n",
       "2          Big Data         6\n",
       "3     Data Engineer         4"
      ]
     },
     "execution_count": 2,
     "metadata": {},
     "output_type": "execute_result"
    }
   ],
   "source": [
    "df"
   ]
  },
  {
   "cell_type": "code",
   "execution_count": 16,
   "id": "a9d1ae0c-2653-43fa-9c0a-f03873bc3e37",
   "metadata": {},
   "outputs": [
    {
     "data": {
      "text/html": [
       "<div>\n",
       "<style scoped>\n",
       "    .dataframe tbody tr th:only-of-type {\n",
       "        vertical-align: middle;\n",
       "    }\n",
       "\n",
       "    .dataframe tbody tr th {\n",
       "        vertical-align: top;\n",
       "    }\n",
       "\n",
       "    .dataframe thead th {\n",
       "        text-align: right;\n",
       "    }\n",
       "</style>\n",
       "<table border=\"1\" class=\"dataframe\">\n",
       "  <thead>\n",
       "    <tr style=\"text-align: right;\">\n",
       "      <th></th>\n",
       "      <th>course_name</th>\n",
       "      <th>duration</th>\n",
       "    </tr>\n",
       "  </thead>\n",
       "  <tbody>\n",
       "    <tr>\n",
       "      <th>1</th>\n",
       "      <td>Machine Learning</td>\n",
       "      <td>3</td>\n",
       "    </tr>\n",
       "  </tbody>\n",
       "</table>\n",
       "</div>"
      ],
      "text/plain": [
       "        course_name  duration\n",
       "1  Machine Learning         3"
      ]
     },
     "execution_count": 16,
     "metadata": {},
     "output_type": "execute_result"
    }
   ],
   "source": [
    "df[1:2]"
   ]
  },
  {
   "cell_type": "code",
   "execution_count": 19,
   "id": "2cc366ba-6beb-4802-bf3a-4cc90358fac1",
   "metadata": {},
   "outputs": [
    {
     "data": {
      "text/plain": [
       "course_name    Machine Learning\n",
       "duration                      3\n",
       "Name: 1, dtype: object"
      ]
     },
     "execution_count": 19,
     "metadata": {},
     "output_type": "execute_result"
    }
   ],
   "source": [
    "df.loc[1]"
   ]
  },
  {
   "cell_type": "code",
   "execution_count": 20,
   "id": "75565080-81e4-423b-ba9f-f6cf3c0418be",
   "metadata": {},
   "outputs": [
    {
     "data": {
      "text/html": [
       "<div>\n",
       "<style scoped>\n",
       "    .dataframe tbody tr th:only-of-type {\n",
       "        vertical-align: middle;\n",
       "    }\n",
       "\n",
       "    .dataframe tbody tr th {\n",
       "        vertical-align: top;\n",
       "    }\n",
       "\n",
       "    .dataframe thead th {\n",
       "        text-align: right;\n",
       "    }\n",
       "</style>\n",
       "<table border=\"1\" class=\"dataframe\">\n",
       "  <thead>\n",
       "    <tr style=\"text-align: right;\">\n",
       "      <th></th>\n",
       "      <th>course_name</th>\n",
       "      <th>duration</th>\n",
       "    </tr>\n",
       "  </thead>\n",
       "  <tbody>\n",
       "    <tr>\n",
       "      <th>2</th>\n",
       "      <td>Big Data</td>\n",
       "      <td>6</td>\n",
       "    </tr>\n",
       "    <tr>\n",
       "      <th>3</th>\n",
       "      <td>Data Engineer</td>\n",
       "      <td>4</td>\n",
       "    </tr>\n",
       "  </tbody>\n",
       "</table>\n",
       "</div>"
      ],
      "text/plain": [
       "     course_name  duration\n",
       "2       Big Data         6\n",
       "3  Data Engineer         4"
      ]
     },
     "execution_count": 20,
     "metadata": {},
     "output_type": "execute_result"
    }
   ],
   "source": [
    "df.loc[2:4]"
   ]
  },
  {
   "cell_type": "code",
   "execution_count": null,
   "id": "00a280f1-12cb-4908-8f42-6a0a55e15a5e",
   "metadata": {},
   "outputs": [],
   "source": []
  },
  {
   "cell_type": "code",
   "execution_count": null,
   "id": "541f14e4-f74c-479a-9281-bfc3986ab3d0",
   "metadata": {},
   "outputs": [],
   "source": []
  },
  {
   "cell_type": "code",
   "execution_count": null,
   "id": "0c1962f2-b1eb-4ff4-a10e-e442797ff419",
   "metadata": {},
   "outputs": [],
   "source": []
  },
  {
   "cell_type": "code",
   "execution_count": null,
   "id": "d5e7b47d-30b5-42b3-9e06-e3b7246ec717",
   "metadata": {},
   "outputs": [],
   "source": []
  },
  {
   "cell_type": "code",
   "execution_count": null,
   "id": "5cb62b33-5f9f-4d9a-8fb9-a0284bc68b83",
   "metadata": {},
   "outputs": [],
   "source": []
  },
  {
   "cell_type": "code",
   "execution_count": 24,
   "id": "b346f203-c5cc-4179-a740-0b0f996ba475",
   "metadata": {},
   "outputs": [
    {
     "data": {
      "text/html": [
       "<div>\n",
       "<style scoped>\n",
       "    .dataframe tbody tr th:only-of-type {\n",
       "        vertical-align: middle;\n",
       "    }\n",
       "\n",
       "    .dataframe tbody tr th {\n",
       "        vertical-align: top;\n",
       "    }\n",
       "\n",
       "    .dataframe thead th {\n",
       "        text-align: right;\n",
       "    }\n",
       "</style>\n",
       "<table border=\"1\" class=\"dataframe\">\n",
       "  <thead>\n",
       "    <tr style=\"text-align: right;\">\n",
       "      <th></th>\n",
       "      <th>course_name</th>\n",
       "      <th>duration</th>\n",
       "    </tr>\n",
       "  </thead>\n",
       "  <tbody>\n",
       "    <tr>\n",
       "      <th>3</th>\n",
       "      <td>Data Engineer</td>\n",
       "      <td>4</td>\n",
       "    </tr>\n",
       "    <tr>\n",
       "      <th>0</th>\n",
       "      <td>Data Science</td>\n",
       "      <td>2</td>\n",
       "    </tr>\n",
       "    <tr>\n",
       "      <th>1</th>\n",
       "      <td>Machine Learning</td>\n",
       "      <td>3</td>\n",
       "    </tr>\n",
       "    <tr>\n",
       "      <th>2</th>\n",
       "      <td>Big Data</td>\n",
       "      <td>6</td>\n",
       "    </tr>\n",
       "  </tbody>\n",
       "</table>\n",
       "</div>"
      ],
      "text/plain": [
       "        course_name  duration\n",
       "3     Data Engineer         4\n",
       "0      Data Science         2\n",
       "1  Machine Learning         3\n",
       "2          Big Data         6"
      ]
     },
     "execution_count": 24,
     "metadata": {},
     "output_type": "execute_result"
    }
   ],
   "source": [
    "index = [3,0,1,2]\n",
    "new_df = df.reindex(index)\n",
    "new_df"
   ]
  },
  {
   "cell_type": "code",
   "execution_count": 23,
   "id": "699a4f6e-f1e1-4f84-9a30-a84af33b10cf",
   "metadata": {},
   "outputs": [
    {
     "data": {
      "text/plain": [
       "course_name    Big Data\n",
       "duration              6\n",
       "Name: 2, dtype: object"
      ]
     },
     "execution_count": 23,
     "metadata": {},
     "output_type": "execute_result"
    }
   ],
   "source": [
    "new_df.loc[2]"
   ]
  },
  {
   "cell_type": "code",
   "execution_count": 25,
   "id": "dcb50d1b-74dc-49c3-a54d-6ea9140255de",
   "metadata": {},
   "outputs": [
    {
     "data": {
      "text/plain": [
       "course_name    Machine Learning\n",
       "duration                      3\n",
       "Name: 1, dtype: object"
      ]
     },
     "execution_count": 25,
     "metadata": {},
     "output_type": "execute_result"
    }
   ],
   "source": [
    "new_df.iloc[2]"
   ]
  },
  {
   "cell_type": "code",
   "execution_count": 26,
   "id": "b8d8fba8-2d87-4193-9a39-7eb4e3f708a9",
   "metadata": {},
   "outputs": [],
   "source": [
    "#loc -- while using loc it took the index which is looking but in iloc took the backend indexing"
   ]
  },
  {
   "cell_type": "code",
   "execution_count": 25,
   "id": "3a676faa-8756-44e2-b8ca-bbd88f32a433",
   "metadata": {},
   "outputs": [
    {
     "data": {
      "text/html": [
       "<div>\n",
       "<style scoped>\n",
       "    .dataframe tbody tr th:only-of-type {\n",
       "        vertical-align: middle;\n",
       "    }\n",
       "\n",
       "    .dataframe tbody tr th {\n",
       "        vertical-align: top;\n",
       "    }\n",
       "\n",
       "    .dataframe thead th {\n",
       "        text-align: right;\n",
       "    }\n",
       "</style>\n",
       "<table border=\"1\" class=\"dataframe\">\n",
       "  <thead>\n",
       "    <tr style=\"text-align: right;\">\n",
       "      <th></th>\n",
       "      <th>column_1</th>\n",
       "      <th>column_2</th>\n",
       "      <th>column_3</th>\n",
       "      <th>column_4</th>\n",
       "      <th>column_5</th>\n",
       "      <th>column_6</th>\n",
       "    </tr>\n",
       "  </thead>\n",
       "  <tbody>\n",
       "    <tr>\n",
       "      <th>1</th>\n",
       "      <td>0.848664</td>\n",
       "      <td>0.688793</td>\n",
       "      <td>0.705040</td>\n",
       "      <td>0.982760</td>\n",
       "      <td>0.172877</td>\n",
       "      <td>0.440379</td>\n",
       "    </tr>\n",
       "    <tr>\n",
       "      <th>2</th>\n",
       "      <td>0.559451</td>\n",
       "      <td>0.782020</td>\n",
       "      <td>0.543265</td>\n",
       "      <td>0.719704</td>\n",
       "      <td>0.598555</td>\n",
       "      <td>0.986468</td>\n",
       "    </tr>\n",
       "    <tr>\n",
       "      <th>3</th>\n",
       "      <td>0.144246</td>\n",
       "      <td>0.611312</td>\n",
       "      <td>0.440193</td>\n",
       "      <td>0.341306</td>\n",
       "      <td>0.000409</td>\n",
       "      <td>0.333340</td>\n",
       "    </tr>\n",
       "    <tr>\n",
       "      <th>4</th>\n",
       "      <td>0.003602</td>\n",
       "      <td>0.943075</td>\n",
       "      <td>0.419485</td>\n",
       "      <td>0.192581</td>\n",
       "      <td>0.656956</td>\n",
       "      <td>0.925047</td>\n",
       "    </tr>\n",
       "    <tr>\n",
       "      <th>5</th>\n",
       "      <td>0.713709</td>\n",
       "      <td>0.259628</td>\n",
       "      <td>0.225496</td>\n",
       "      <td>0.621630</td>\n",
       "      <td>0.841200</td>\n",
       "      <td>0.737324</td>\n",
       "    </tr>\n",
       "    <tr>\n",
       "      <th>6</th>\n",
       "      <td>0.047946</td>\n",
       "      <td>0.817260</td>\n",
       "      <td>0.169036</td>\n",
       "      <td>0.344034</td>\n",
       "      <td>0.216306</td>\n",
       "      <td>0.769601</td>\n",
       "    </tr>\n",
       "  </tbody>\n",
       "</table>\n",
       "</div>"
      ],
      "text/plain": [
       "   column_1  column_2  column_3  column_4  column_5  column_6\n",
       "1  0.848664  0.688793  0.705040  0.982760  0.172877  0.440379\n",
       "2  0.559451  0.782020  0.543265  0.719704  0.598555  0.986468\n",
       "3  0.144246  0.611312  0.440193  0.341306  0.000409  0.333340\n",
       "4  0.003602  0.943075  0.419485  0.192581  0.656956  0.925047\n",
       "5  0.713709  0.259628  0.225496  0.621630  0.841200  0.737324\n",
       "6  0.047946  0.817260  0.169036  0.344034  0.216306  0.769601"
      ]
     },
     "execution_count": 25,
     "metadata": {},
     "output_type": "execute_result"
    }
   ],
   "source": [
    "import pandas as pd\n",
    "import numpy as np\n",
    "columns = ['column_1','column_2','column_3','column_4','column_5','column_6']\n",
    "indices = [1,2,3,4,5,6]\n",
    "\n",
    "df1 = pd.DataFrame(np.random.rand(6,6),columns = columns,index = indices)\n",
    "df1"
   ]
  },
  {
   "cell_type": "code",
   "execution_count": null,
   "id": "4ca0fdd2-38fd-40da-8ad5-806ce6b73715",
   "metadata": {},
   "outputs": [],
   "source": [
    "# Q4"
   ]
  },
  {
   "cell_type": "code",
   "execution_count": 6,
   "id": "039dc7c1-f625-424d-85a2-6e7af60103f8",
   "metadata": {},
   "outputs": [
    {
     "data": {
      "text/plain": [
       "column_1    0.344301\n",
       "column_2    0.394417\n",
       "column_3    0.486817\n",
       "column_4    0.666547\n",
       "column_5    0.457912\n",
       "column_6    0.391824\n",
       "dtype: float64"
      ]
     },
     "execution_count": 6,
     "metadata": {},
     "output_type": "execute_result"
    }
   ],
   "source": [
    "df1.apply(lambda x : x.mean())"
   ]
  },
  {
   "cell_type": "code",
   "execution_count": 7,
   "id": "3392caa3-d8d3-489e-8ceb-c3381a783cec",
   "metadata": {},
   "outputs": [
    {
     "data": {
      "text/plain": [
       "column_1    0.215648\n",
       "column_2    0.321302\n",
       "column_3    0.341913\n",
       "column_4    0.190258\n",
       "column_5    0.230529\n",
       "column_6    0.281850\n",
       "dtype: float64"
      ]
     },
     "execution_count": 7,
     "metadata": {},
     "output_type": "execute_result"
    }
   ],
   "source": [
    "df1.apply(lambda x:x.std())"
   ]
  },
  {
   "cell_type": "code",
   "execution_count": 8,
   "id": "95223d50-ba2e-485d-85be-a4c8805d108f",
   "metadata": {},
   "outputs": [],
   "source": [
    "# Q5"
   ]
  },
  {
   "cell_type": "code",
   "execution_count": 17,
   "id": "4f4d6800-3be8-43e8-85dc-f12e573f4cdd",
   "metadata": {},
   "outputs": [],
   "source": [
    "df1.loc[2] = df1.loc[2].apply(str)"
   ]
  },
  {
   "cell_type": "code",
   "execution_count": 21,
   "id": "ff36b9bb-8bb5-427a-9159-808963192325",
   "metadata": {},
   "outputs": [
    {
     "name": "stdout",
     "output_type": "stream",
     "text": [
      "Error is:  unsupported operand type(s) for +: 'float' and 'str'\n"
     ]
    }
   ],
   "source": [
    "try :\n",
    "    df1['column_2'].mean()\n",
    "except Exception as e:\n",
    "    print('Error is: ',e)"
   ]
  },
  {
   "cell_type": "code",
   "execution_count": 22,
   "id": "4e6331a0-bc6b-42a3-8f7c-1dc2b754cd86",
   "metadata": {},
   "outputs": [],
   "source": [
    "# we are trying to add floating with string but due to data types differ it can't work."
   ]
  },
  {
   "cell_type": "code",
   "execution_count": 23,
   "id": "3a2192a9-5737-4be3-aa8d-8af3d8a5f633",
   "metadata": {},
   "outputs": [],
   "source": [
    "# Q6"
   ]
  },
  {
   "cell_type": "code",
   "execution_count": 33,
   "id": "4bec5e3d-fd2f-4e26-919d-adf5babecc6c",
   "metadata": {},
   "outputs": [
    {
     "data": {
      "text/plain": [
       "1         NaN\n",
       "2    0.704058\n",
       "3    0.351849\n",
       "4    0.073924\n",
       "5    0.358656\n",
       "6    0.380828\n",
       "Name: column_1, dtype: float64"
      ]
     },
     "execution_count": 33,
     "metadata": {},
     "output_type": "execute_result"
    }
   ],
   "source": [
    "df1['column_1'].rolling(window = 2).mean()"
   ]
  },
  {
   "cell_type": "code",
   "execution_count": null,
   "id": "63aece8c-d805-4c85-bce8-bc9886fb599c",
   "metadata": {},
   "outputs": [],
   "source": [
    "# window funtion is use to find the moving average "
   ]
  },
  {
   "cell_type": "code",
   "execution_count": 49,
   "id": "e14ba97f-b352-4fc6-8bbc-9f274aa769ee",
   "metadata": {},
   "outputs": [
    {
     "name": "stdout",
     "output_type": "stream",
     "text": [
      "Current month:  2\n",
      "Current Year:  2023\n"
     ]
    }
   ],
   "source": [
    "# Q7\n",
    "\n",
    "from datetime import datetime,date\n",
    "\n",
    "print('Current month: ',datetime.now().month)\n",
    "print('Current Year: ',datetime.now().year)"
   ]
  },
  {
   "cell_type": "code",
   "execution_count": 76,
   "id": "6bc1cf92-ddde-4d8b-899e-4580a9f2e6b2",
   "metadata": {},
   "outputs": [],
   "source": [
    "# Q8\n",
    "\n",
    "def date_diff(date1,date2):\n",
    "    dat1 = pd.to_datetime(date1)\n",
    "    dat2 = pd.to_datetime(date2)\n",
    "    \n",
    "    if dat2 > dat1:\n",
    "        return pd.Timedelta(dat2-dat1)\n",
    "    else:\n",
    "        return pd.Timedelta(dat1-dat2)"
   ]
  },
  {
   "cell_type": "code",
   "execution_count": 78,
   "id": "4e7f2b70-7359-48bc-9754-ae83dcda3a41",
   "metadata": {},
   "outputs": [
    {
     "data": {
      "text/plain": [
       "Timedelta('1461 days 00:00:00')"
      ]
     },
     "execution_count": 78,
     "metadata": {},
     "output_type": "execute_result"
    }
   ],
   "source": [
    "date_diff('2023-04-06','2019-4-6')"
   ]
  },
  {
   "cell_type": "code",
   "execution_count": 80,
   "id": "595ec3d9-aa74-4af7-b8e3-639eff1f3f45",
   "metadata": {},
   "outputs": [],
   "source": [
    "# Q9"
   ]
  },
  {
   "cell_type": "code",
   "execution_count": 98,
   "id": "21781cfc-597e-4e97-9a12-bd00395b43a0",
   "metadata": {},
   "outputs": [
    {
     "name": "stdin",
     "output_type": "stream",
     "text": [
      "Enter the File path:  /home/jovyan/work/Assignment/test.csv\n",
      "Enter the categorical variable name:  Gender\n",
      "In which order you want to see (Assending/Descending) Assending\n"
     ]
    },
    {
     "name": "stdout",
     "output_type": "stream",
     "text": [
      "['Female', 'Female', 'Male']\n",
      "Categories (2, object): ['Female', 'Male']\n"
     ]
    }
   ],
   "source": [
    "path = input('Enter the File path: ')\n",
    "col_name = input('Enter the categorical variable name: ')\n",
    "order = input('In which order you want to see (Assending/Descending)')\n",
    "\n",
    "df = pd.read_csv(path)\n",
    "\n",
    "if order == 'Assending':\n",
    "    print(pd.Categorical(df[col_name]).sort_values(ascending = True))\n",
    "elif order == 'Decending':\n",
    "    print(pd.Categorical(df[col_name]).sort_values(ascending = False))\n",
    "else:\n",
    "    print('Please give the correct information')"
   ]
  },
  {
   "cell_type": "code",
   "execution_count": 99,
   "id": "1534d0cd-68d5-4d57-868d-6cd22e22eedd",
   "metadata": {},
   "outputs": [],
   "source": [
    "# Q10"
   ]
  },
  {
   "cell_type": "code",
   "execution_count": 100,
   "id": "536b7aed-c11f-4197-8d07-7ad61f3f4170",
   "metadata": {},
   "outputs": [],
   "source": [
    "# data = {'Products':['A','B','C','D','E'],\n",
    "#         'Sales': [25,45,85,65,15]\n",
    "# }\n",
    "\n",
    "# df1 = pd.DataFrame(data)"
   ]
  },
  {
   "cell_type": "code",
   "execution_count": 101,
   "id": "abab2821-acb1-4f7a-9201-93b16c8721f8",
   "metadata": {},
   "outputs": [
    {
     "data": {
      "text/plain": [
       "<AxesSubplot: xlabel='Products'>"
      ]
     },
     "execution_count": 101,
     "metadata": {},
     "output_type": "execute_result"
    },
    {
     "data": {
      "image/png": "[encoded data removed]",
      "text/plain": [
       "<Figure size 640x480 with 1 Axes>"
      ]
     },
     "metadata": {},
     "output_type": "display_data"
    }
   ],
   "source": [
    "path = input('Enter the file path name containg columns Products and Sales: ')\n",
    "df1 = pd.read_csv(path)\n",
    "df1.plot.bar(x = 'Products',y = 'Sales')"
   ]
  },
  {
   "cell_type": "code",
   "execution_count": 105,
   "id": "969930dc-005e-440f-99f0-e09e84d3ceb2",
   "metadata": {},
   "outputs": [],
   "source": [
    "# Q11\n",
    "\n",
    "# data = {'Student_ID' : [1,2,3,4,5,6,7,8,9,10],\n",
    "#         'Test_Score' :[85,90,80,75,85,82,78,85,90,85]\n",
    "# }\n",
    "\n",
    "# df = pd.DataFrame(data)\n",
    "# df.to_csv('Student_data.csv',index=False)"
   ]
  },
  {
   "cell_type": "code",
   "execution_count": 110,
   "id": "9f5dfea2-a80d-45fa-87bd-18e7fa77622c",
   "metadata": {},
   "outputs": [
    {
     "name": "stdout",
     "output_type": "stream",
     "text": [
      "Mean of the Test Score:  83.5\n",
      "Median of the Test Score:  85.0\n",
      "Mode of the Test Score:  0    85\n",
      "Name: Test_Score, dtype: int64\n"
     ]
    }
   ],
   "source": [
    "df = pd.read_csv('Student_data.csv')\n",
    "print('Mean of the Test Score: ',df['Test_Score'].mean())\n",
    "print('Median of the Test Score: ',df['Test_Score'].median())\n",
    "print('Mode of the Test Score: ',df['Test_Score'].mode())"
   ]
  },
  {
   "cell_type": "code",
   "execution_count": 126,
   "id": "61fb1b6a-6c6b-42aa-b252-50553879b339",
   "metadata": {},
   "outputs": [
    {
     "name": "stdout",
     "output_type": "stream",
     "text": [
      "+-------------+---------+\n",
      "| Statistic   |   Value |\n",
      "+=============+=========+\n",
      "| Mean        |    83.5 |\n",
      "+-------------+---------+\n",
      "| Median      |    85   |\n",
      "+-------------+---------+\n",
      "| Mode        |    85   |\n",
      "+-------------+---------+\n"
     ]
    }
   ],
   "source": [
    "from tabulate import tabulate\n",
    "data = [\n",
    "    ['Mean',df['Test_Score'].mean()],\n",
    "    ['Median',df['Test_Score'].median()],\n",
    "    ['Mode',df['Test_Score'].mode()[0]]\n",
    "]\n",
    "\n",
    "head = ['Statistic','Value']\n",
    "\n",
    "print(tabulate(data, headers = head, tablefmt = \"grid\"))"
   ]
  },
  {
   "cell_type": "code",
   "execution_count": null,
   "id": "67735dc4-17e2-4425-b4a0-40730fac09c6",
   "metadata": {},
   "outputs": [],
   "source": []
  }
 ],
 "metadata": {
  "kernelspec": {
   "display_name": "Python 3 (ipykernel)",
   "language": "python",
   "name": "python3"
  },
  "language_info": {
   "codemirror_mode": {
    "name": "ipython",
    "version": 3
   },
   "file_extension": ".py",
   "mimetype": "text/x-python",
   "name": "python",
   "nbconvert_exporter": "python",
   "pygments_lexer": "ipython3",
   "version": "3.10.6"
  }
 },
 "nbformat": 4,
 "nbformat_minor": 5
}
